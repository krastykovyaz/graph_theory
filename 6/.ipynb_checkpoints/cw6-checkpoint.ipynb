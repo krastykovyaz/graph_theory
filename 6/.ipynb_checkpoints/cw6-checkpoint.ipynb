{
 "cells": [
  {
   "cell_type": "markdown",
   "metadata": {
    "id": "Ok3nh4_bzua7"
   },
   "source": [
    "# Обходы графов\n",
    "\n",
    "В этом ноутбуке мы посмотрим на примеры работы с обходами в графах"
   ]
  },
  {
   "cell_type": "code",
   "execution_count": 1,
   "metadata": {
    "id": "7LmnanLMzua8"
   },
   "outputs": [
    {
     "name": "stdout",
     "output_type": "stream",
     "text": [
      "Список вершин: ['A', 'B', 'C', 'D', 'E', 'F']\n",
      "Список ребер: [('A', 'B'), ('B', 'C'), ('B', 'D'), ('B', 'E'), ('C', 'A'), ('D', 'A'), ('D', 'C'), ('D', 'E'), ('F', 'E')]\n",
      "Число вершин: 6\n",
      "Число ребер: 9\n"
     ]
    }
   ],
   "source": [
    "# Задаем граф\n",
    "\n",
    "import networkx as nx\n",
    "\n",
    "G = nx.DiGraph()\n",
    "\n",
    "G.add_nodes_from(['A','B','C','D','E','F'])\n",
    "G.add_edges_from([('A','B'), \n",
    "                      ('B','C'), ('B','D'), ('B','E'), \n",
    "                      ('C','A'), \n",
    "                      ('D','A'), ('D','C'), ('D','E'), \n",
    "                      ('F','E')])\n",
    "\n",
    "\n",
    "nodes=list(G.nodes())\n",
    "edges=list(G.edges())\n",
    "\n",
    "print(\"Список вершин:\",nodes)\n",
    "print(\"Список ребер:\",edges)\n",
    "\n",
    "num_nodes = G.number_of_nodes()\n",
    "num_edges = G.number_of_edges()\n",
    "\n",
    "print(\"Число вершин:\",num_nodes)\n",
    "print(\"Число ребер:\",num_edges)"
   ]
  },
  {
   "cell_type": "code",
   "execution_count": 2,
   "metadata": {
    "id": "mwG54xyMzubC"
   },
   "outputs": [
    {
     "data": {
      "image/png": "[encoded data removed]",
      "text/plain": [
       "<Figure size 432x288 with 1 Axes>"
      ]
     },
     "metadata": {},
     "output_type": "display_data"
    }
   ],
   "source": [
    "# Рисуем граф\n",
    "\n",
    "import matplotlib.pyplot as plt\n",
    "\n",
    "pos = {'A': (1, 1.5), 'B': (4, 0), 'C': (5, 2), 'D': (2.9, 2.2), 'E': (6, 0.5), 'F': (7.5, 1.5)}\n",
    "\n",
    "def draw_G(G, axis=False, pos=None):\n",
    "    options = {\n",
    "        \"font_size\": 20,\n",
    "        \"node_size\": 1500,\n",
    "        \"node_color\": \"white\",\n",
    "        \"edgecolors\": \"black\",\n",
    "        \"linewidths\": 3,\n",
    "        \"width\": 3,\n",
    "    }\n",
    "\n",
    "    if axis:\n",
    "        plt.axis([0, 8.5, -0.5, 2.7])\n",
    "    nx.draw_networkx(G, pos, **options)\n",
    "    plt.show()\n",
    "    \n",
    "draw_G(G, True, pos)"
   ]
  },
  {
   "cell_type": "code",
   "execution_count": 3,
   "metadata": {
    "id": "i6X1nVk7BUb-"
   },
   "outputs": [
    {
     "name": "stdout",
     "output_type": "stream",
     "text": [
      "Pre:  [('A', 0), ('B', 1), ('C', 2), ('D', 4), ('E', 5), ('F', 10)]\n",
      "Post: [('A', 9), ('B', 8), ('C', 3), ('D', 7), ('E', 6), ('F', 11)]\n"
     ]
    }
   ],
   "source": [
    "# Реализуем поиск в глубину без глобальных переменных\n",
    "\n",
    "pre={}\n",
    "post={}\n",
    "\n",
    "def Previsit(v, pre, clock):\n",
    "    pre[v]=clock\n",
    "    clock+=1\n",
    "    return clock\n",
    "\n",
    "def Postvisit(v, post, clock):\n",
    "    post[v]=clock\n",
    "    clock+=1\n",
    "    return clock\n",
    "\n",
    "visited=dict()\n",
    "for v in G:\n",
    "    visited[v]=False\n",
    "\n",
    "def Explore(v,graph,pre,post,clock,visited):\n",
    "    visited[v]=True\n",
    "    clock = Previsit(v,pre,clock)\n",
    "    for u in graph[v]:\n",
    "        if not visited[u]:\n",
    "            clock = Explore(u,graph,pre,post,clock,visited)\n",
    "    clock = Postvisit(v,post,clock)\n",
    "    return clock\n",
    "            \n",
    "def dfs(graph,pre,post,visited):\n",
    "    clock=0\n",
    "    for v in graph:\n",
    "        if not visited[v]:\n",
    "            clock = Explore(v,graph,pre,post,clock,visited)\n",
    "\n",
    "dfs(G,pre,post,visited)\n",
    "\n",
    "print(\"Pre: \",sorted(pre.items()))\n",
    "print(\"Post:\",sorted(post.items()))"
   ]
  },
  {
   "cell_type": "code",
   "execution_count": null,
   "metadata": {
    "id": "9CDlwB-wBkGK"
   },
   "outputs": [],
   "source": [
    "# Находим компоненты сильной связности с помощью встроенной функции\n",
    "\n",
    "list(nx.strongly_connected_components(G))"
   ]
  },
  {
   "cell_type": "code",
   "execution_count": null,
   "metadata": {
    "id": "M_NBrPJYBnOq"
   },
   "outputs": [],
   "source": [
    "# Находим компоненты сильной связности\n",
    "\n",
    "G_r = G.reverse(copy=True)\n",
    "\n",
    "\n",
    "draw_G(G, True, pos)\n",
    "draw_G(G_r, True, pos)\n",
    "\n",
    "# Запускаем поиск в глубину для развернутого графа\n",
    "\n",
    "pre_r={}\n",
    "post_r={}\n",
    "visited_r={}\n",
    "for v in G_r:\n",
    "    visited_r[v]=False\n",
    "dfs(G_r,pre_r,post_r,visited_r)\n",
    "\n",
    "print(\"Pre для обратного графа:\\t\",dict(sorted(pre_r.items())))\n",
    "print(\"Post для обратного графа:\\t\",dict(sorted(post_r.items())))\n",
    "print()\n",
    "\n",
    "visited={}\n",
    "for v in G:\n",
    "    visited[v]=False\n",
    "\n",
    "# Запускаем обход компонент связности\n",
    "while post_r:\n",
    "    print(\"Очередная компонента состоит из:\",end=\" \")\n",
    "    pre={}\n",
    "    post={}\n",
    "\n",
    "    current_v = max(post_r, key=post_r.get)\n",
    "    Explore(current_v, G, pre, post, 0, visited)\n",
    "    \n",
    "    for v, k in visited.items():\n",
    "        if k and v in post_r:\n",
    "            print(v,end=\" \")\n",
    "            del post_r[v]\n",
    "    #print(visited)\n",
    "    print()"
   ]
  },
  {
   "cell_type": "code",
   "execution_count": null,
   "metadata": {
    "id": "tEbUb9ioE3lX"
   },
   "outputs": [],
   "source": [
    "# Задаем неориентированный граф\n",
    "\n",
    "G = nx.Graph()\n",
    "\n",
    "G.add_nodes_from(['A', 'B', 'C', 'D', 'E', 'F'])\n",
    "\n",
    "G.add_edges_from([('A','B'), ('B','C'), ('C','A'), ('B','D'), ('F','E'),('D','E')])\n",
    "\n",
    "\n",
    "\n",
    "draw_G(G, True, pos)"
   ]
  },
  {
   "cell_type": "code",
   "execution_count": null,
   "metadata": {
    "id": "48lj_Z4257QN"
   },
   "outputs": [],
   "source": [
    "# В этом блоке нужно реализовать удаление вершины из неориентированного графа с сохранением связности\n",
    "\n",
    "draw_G(G, True, pos)\n",
    "\n",
    "clock = 0\n",
    "\n",
    "pre={}\n",
    "post={}\n",
    "\n",
    "def Previsit(v):\n",
    "    global clock\n",
    "    pre[v]=clock\n",
    "    clock+=1\n",
    "\n",
    "def Postvisit(v):\n",
    "    global clock\n",
    "    post[v]=clock\n",
    "    clock+=1\n",
    "\n",
    "visited={}\n",
    "for v in G:\n",
    "    visited[v]=False\n",
    "\n",
    "def Explore(v):\n",
    "    visited[v]=True\n",
    "    Previsit(v)\n",
    "    for u in G[v]:\n",
    "        if not visited[u]:\n",
    "            Explore(u)\n",
    "    Postvisit(v)\n",
    "            \n",
    "def dfs():\n",
    "    for v in G:\n",
    "        if not visited[v]:\n",
    "            Explore(v)\n",
    "            \n",
    "\n",
    "\n",
    "def vertex_deletion():\n",
    "    dfs()\n",
    "    # Добавьте здесь ваше решение\n",
    "    \n",
    "\n",
    "print(vertex_deletion())\n",
    "print(pre)"
   ]
  },
  {
   "cell_type": "code",
   "execution_count": null,
   "metadata": {
    "id": "6sbklXXU0OWj"
   },
   "outputs": [],
   "source": [
    "# Запускаем поиск в ширину\n",
    "\n",
    "from collections import deque\n",
    "\n",
    "def bfs(G, v):\n",
    "    dist = {v: 0}\n",
    "    queue = deque([v])\n",
    "    \n",
    "    while queue:\n",
    "        s = queue.popleft()\n",
    "        for u in G[s]:\n",
    "            if u not in dist:\n",
    "                queue.append(u)\n",
    "                dist[u] = dist[s] + 1\n",
    "    return dist\n",
    "\n",
    "bfs(G,'A')"
   ]
  },
  {
   "cell_type": "code",
   "execution_count": null,
   "metadata": {
    "id": "kyUq7vzz27Va"
   },
   "outputs": [],
   "source": [
    "# В этом блоке нужно проверить есть ли в данном графе цикл длины не больше 4, проходящий через данную вершину\n",
    "\n",
    "def test_for_cycle(G, v):\n",
    "    \"\"\"\n",
    "        Проверяет, не проходит ли\n",
    "        * через вершину v\n",
    "        * графа G\n",
    "        * цикл длины не больше 4\n",
    "    \"\"\"\n",
    "    # Инициализация обычного bfs\n",
    "    dist = { v: 0 }\n",
    "    # Здесь полезно хранить не только вершину, но и предка\n",
    "    # При этом для v удобно предка положить чему-то, что не будет мешать\n",
    "    queue = deque([ (v, v) ])\n",
    "    # deep --- максимальная глубина,\n",
    "    # на которой может находиться вершина цикла\n",
    "    deep = 2\n",
    "\n",
    "    while queue:\n",
    "        # Добавьте здесь ваше решение\n",
    "        \n",
    "    \n",
    "\n",
    "#G.remove_edge('C','B')\n",
    "draw_G(G, True, pos)\n",
    "print(test_for_cycle(G,'A'))\n",
    "#G.add_edge('C','B')\n"
   ]
  },
  {
   "cell_type": "code",
   "execution_count": null,
   "metadata": {
    "id": "pNTza0RS4lo4"
   },
   "outputs": [],
   "source": [
    "H = nx.lollipop_graph(5, 5)\n",
    "\n",
    "draw_G(H)"
   ]
  },
  {
   "cell_type": "code",
   "execution_count": null,
   "metadata": {
    "id": "0bnTWF-05Dcp"
   },
   "outputs": [],
   "source": [
    "print(test_for_cycle(H,0))\n",
    "\n",
    "print(test_for_cycle(H,5))\n",
    "print(test_for_cycle(H,9))\n"
   ]
  },
  {
   "cell_type": "code",
   "execution_count": null,
   "metadata": {
    "id": "L8SRKdHi8d2k"
   },
   "outputs": [],
   "source": [
    "# В этом блоке мы загружаем амазоновский граф\n",
    "\n",
    "import networkx as nx\n",
    "\n",
    "amazon = nx.read_edgelist(\"amazon0302.txt\", create_using=nx.Graph(), nodetype=int, data=False)\n",
    "amazon = nx.convert_node_labels_to_integers(amazon, ordering='decreasing degree')\n",
    "nodes = amazon.number_of_nodes()"
   ]
  },
  {
   "cell_type": "code",
   "execution_count": null,
   "metadata": {
    "id": "72ur5cWo8uNU"
   },
   "outputs": [],
   "source": [
    "print(test_for_cycle(amazon,0))\n",
    "print(test_for_cycle(amazon,143585))"
   ]
  }
 ],
 "metadata": {
  "colab": {
   "name": "cw6_sol.ipynb",
   "provenance": []
  },
  "kernelspec": {
   "display_name": "Python 3 (ipykernel)",
   "language": "python",
   "name": "python3"
  },
  "language_info": {
   "codemirror_mode": {
    "name": "ipython",
    "version": 3
   },
   "file_extension": ".py",
   "mimetype": "text/x-python",
   "name": "python",
   "nbconvert_exporter": "python",
   "pygments_lexer": "ipython3",
   "version": "3.9.7"
  }
 },
 "nbformat": 4,
 "nbformat_minor": 1
}
