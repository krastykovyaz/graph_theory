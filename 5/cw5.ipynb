{
 "cells": [
  {
   "cell_type": "markdown",
   "metadata": {
    "id": "BvNNfs06t2Yt"
   },
   "source": [
    "# Случайность\n",
    "\n",
    "В этом ноутбуке мы рассмотрим примеры работы с вероятностью в Python"
   ]
  },
  {
   "cell_type": "code",
   "execution_count": 1,
   "metadata": {
    "id": "wjYRqTXLt2Yu"
   },
   "outputs": [
    {
     "name": "stdout",
     "output_type": "stream",
     "text": [
      "Случайное число от 0 до 5: 2\n",
      "Случайное число от 1 до 6: 6\n",
      "Случайная буква из A, B, C, D: D\n",
      "10 cлучайных результатов в лотерее: ['100 рублей', '0 рублей', '0 рублей', '0 рублей', '0 рублей', '0 рублей', '0 рублей', '0 рублей', '0 рублей', '0 рублей']\n",
      "Общий выигрыш: 100 рублей\n"
     ]
    }
   ],
   "source": [
    "import random as rand\n",
    "\n",
    "print(\"Случайное число от 0 до 5:\", rand.randrange(6))\n",
    "\n",
    "print(\"Случайное число от 1 до 6:\", rand.randrange(1,7))\n",
    "\n",
    "print(\"Случайная буква из A, B, C, D:\", rand.choice('ABCD'))\n",
    "\n",
    "lottery_results = rand.choices(['1000 рублей', '100 рублей', '0 рублей'], [1, 10, 89], k=10)\n",
    "\n",
    "print(\"10 cлучайных результатов в лотерее:\", lottery_results)\n",
    "print(\"Общий выигрыш:\", 100 * lottery_results.count('100 рублей') + 1000 * lottery_results.count('1000 рублей'), \"рублей\")"
   ]
  },
  {
   "cell_type": "code",
   "execution_count": 2,
   "metadata": {
    "id": "l3hooURXt2Y0"
   },
   "outputs": [
    {
     "data": {
      "text/plain": [
       "79"
      ]
     },
     "execution_count": 2,
     "metadata": {},
     "output_type": "execute_result"
    }
   ],
   "source": [
    "# Считаем среднюю оценку за тест\n",
    "\n",
    "from statistics import mean\n",
    "\n",
    "mean([78,72,87])"
   ]
  },
  {
   "cell_type": "code",
   "execution_count": 6,
   "metadata": {
    "id": "I2S_XLswt2Y2"
   },
   "outputs": [
    {
     "data": {
      "text/plain": [
       "3.4"
      ]
     },
     "execution_count": 6,
     "metadata": {},
     "output_type": "execute_result"
    }
   ],
   "source": [
    "# Считаем среднее значение на кубике в серии бросаний\n",
    "\n",
    "mean(i for i in rand.choices(range(1,7),k=10))"
   ]
  },
  {
   "cell_type": "code",
   "execution_count": null,
   "metadata": {},
   "outputs": [],
   "source": []
  }
 ],
 "metadata": {
  "colab": {
   "name": "random.json",
   "provenance": [],
   "toc_visible": true
  },
  "kernelspec": {
   "display_name": "Python 3 (ipykernel)",
   "language": "python",
   "name": "python3"
  },
  "language_info": {
   "codemirror_mode": {
    "name": "ipython",
    "version": 3
   },
   "file_extension": ".py",
   "mimetype": "text/x-python",
   "name": "python",
   "nbconvert_exporter": "python",
   "pygments_lexer": "ipython3",
   "version": "3.9.7"
  }
 },
 "nbformat": 4,
 "nbformat_minor": 1
}
