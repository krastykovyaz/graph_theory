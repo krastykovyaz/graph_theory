{
  "nbformat": 4,
  "nbformat_minor": 0,
  "metadata": {
    "celltoolbar": "Create Assignment",
    "kernelspec": {
      "display_name": "Python 3",
      "language": "python",
      "name": "python3"
    },
    "language_info": {
      "codemirror_mode": {
        "name": "ipython",
        "version": 3
      },
      "file_extension": ".py",
      "mimetype": "text/x-python",
      "name": "python",
      "nbconvert_exporter": "python",
      "pygments_lexer": "ipython3",
      "version": "3.7.6"
    },
    "colab": {
      "name": "Project_sol.ipynb",
      "provenance": [],
      "collapsed_sections": []
    }
  },
  "cells": [
    {
      "cell_type": "markdown",
      "metadata": {
        "nbgrader": {
          "grade": false,
          "grade_id": "cell-3ca52623de90cf0d",
          "locked": true,
          "schema_version": 3,
          "solution": false,
          "task": false
        },
        "id": "RL1j7mY-GhAS"
      },
      "source": [
        "# Построение рекомендательной системы\n",
        "\n",
        "В этом нотбуке мы выполним наш проект — построим рекомендательную систему, основанную на методах, которые мы обсудили на занятии.\n",
        "\n",
        "Для этого мы будем использовать данные от Амазон. Граф размещен в отдельном файле, он загружается в первом блоке.\n",
        "\n",
        "Нам нужно будет реализовать три метода, обсуждавшиеся на занятии, и протестировать их. Но общий подход во всех трех методах один и тот же: \n",
        "1. мы фиксируем вершину (в коде ниже это переменная `query`); \n",
        "2. удаляем некоторые смежные с ней ребра (в коде ниже это список `samp`); \n",
        "3. вычисляем специально определенное расстояние между нашей вершиной и всеми остальными (методы различаются как раз выбором расстояния);\n",
        "4. выбираем вершины с наименьшим расстоянием до выбранной, это те вершины, в которые метод предлагает провести ребра;\n",
        "5. сравниваем предложенные методом ребра с удаленными, чем больше совпадений, тем лучше сработал метод.\n",
        "\n",
        "Вспомогательные шаги уже реализованы ниже. Шаг 2 реализован в функции `generate_graph`. Шаги 4-5 реализованы в функции `check_answer`. Вам нужно реализовать только шаги 3 для всех методов.\n",
        "\n",
        "В первом методе, который нужно реализовать, расстоянием является просто число общих соседей. Во втором методе нужно будет посчитать усеченные моменты достижения из выбранной вершины. Их мы подсчитываем приближенно, запуская случайное блуждание несколько раз. Сначала нужно реализовать функцию для одного случайного блуждания, затем функцию для приближенного вычисления усеченных моментов достижения. Длину блуждания мы фиксируем равной 10. В третьем методе нужно посчитать усеченные моменты достижения в вершину. Для них у нас есть рекуррентная формула. Наконец, в последнем методе нужно просто посчитать суммы результатов двух предыдущих методов.\n",
        "\n",
        "Мы подробно обсуждали все эти методы на занятии. Ниже вы также можете найти поясняющие комментарии.\n",
        "\n",
        "Добавьте ваше решение между строками \"BEGIN SOLUTION\" и \"END SOLUTION\". Желательно не менять остальной код.\n",
        "\n",
        "---\n",
        "**Правила сдачи и оценивания.** Это задание является проектом курса, оно оценивается в 30 баллов.\n",
        "\n",
        "Дедлайн по выполнению проекта --- **14 октября в 19:00**. Решения нужно отправить по адресу pygraphs.sber@gmail.com. Решения будут проверены до 19:00 15 октября. \n",
        "\n",
        "Также можно отправить решения до **19:00 12 октября**. Тогда они будут проверены до 19:00 13 октября и в случае наличия ошибок можно будет успеть их исправить до основного дедлайна.\n",
        "\n",
        "В задании нужно реализовать 4 метода, описанных выше, каждый из них можно реализовывать независимо от остальных (хотя последний метод использует два предыдущих, для его реализации можно использовать лишь функции, реализация которых требуется в предыдущих методах). Первый метод оценивается в 9 баллов. Второй и третий метод оцениваются в 10 баллов каждый. Четвертый метод оценивается в 1 балл.\n",
        "\n",
        "---"
      ]
    },
    {
      "cell_type": "code",
      "metadata": {
        "nbgrader": {
          "grade": false,
          "grade_id": "cell-f3d34abd29a6eb84",
          "locked": true,
          "schema_version": 3,
          "solution": false,
          "task": false
        },
        "id": "DudgKvkzGhAZ"
      },
      "source": [
        "# В этом блоке мы загружаем граф из файла и приводим его в вид, удобный для работы\n",
        "\n",
        "import networkx as nx\n",
        "\n",
        "amazon = nx.read_edgelist(\"amazon0302.txt\", create_using=nx.Graph(), nodetype=int, data=False)\n",
        "amazon = nx.convert_node_labels_to_integers(amazon, ordering='decreasing degree')\n",
        "nodes = amazon.number_of_nodes()"
      ],
      "execution_count": null,
      "outputs": []
    },
    {
      "cell_type": "code",
      "metadata": {
        "nbgrader": {
          "grade": false,
          "grade_id": "cell-9f0ea5788c427888",
          "locked": true,
          "schema_version": 3,
          "solution": false,
          "task": false
        },
        "id": "X3DDHv2YGhAZ"
      },
      "source": [
        "# В этом блоке собраны вспомогательные функции, которые потребуются вам для выполнения задания\n",
        "\n",
        "# Эта функция получив на вход словарь упорядочивает его по значению меток\n",
        "def index_sorted(a, reverse=False):\n",
        "    return sorted(range(len(a)), key=lambda k: a[k], reverse=reverse)\n",
        "\n",
        "# Эта функция позволяет выбрать ответ из посчитанных расстояний и сравнить его с целевым значением. \n",
        "# Она выбирает нужное количество вершин с минимальным расстоянием и находит число совпадений с удаленными ребрами.\n",
        "# Здесь stat — это словарь с расстояниями, а samp — количество выбираемых вершин с минимальным расстоянием.\n",
        "def check_answer(stat, samp, reverse=False): \n",
        "    index_dist = index_sorted(stat, reverse)\n",
        "    guess = index_dist[:len(samp)]\n",
        "    return len(set(samp) & set(guess))\n",
        "\n",
        "# Эта функция генерирует тестовый пример, удаляя данные ей ребра из графа.\n",
        "# Здесь samp — количество удаляемых ребер.\n",
        "def generate_graph(query, samp):\n",
        "    graph = amazon.copy()\n",
        "    for i in samp:\n",
        "        graph.remove_edge(query, i)\n",
        "    return graph"
      ],
      "execution_count": null,
      "outputs": []
    },
    {
      "cell_type": "code",
      "metadata": {
        "nbgrader": {
          "grade": false,
          "grade_id": "cell-0f6fc08ec9cfd596",
          "locked": false,
          "schema_version": 3,
          "solution": true,
          "task": false
        },
        "id": "jbsLUl1fGhAa"
      },
      "source": [
        "# В этом блоке требуется реализовать метод числа общих соседей. \n",
        "# Функция в ячейке i списка common_neigh должна сохранить число общих соседей query и i. \n",
        "# Но есть одна тонкость: ячейку с номером query и с номерами ее соседей правильно обнулить, \n",
        "# а то нам будут рекомендовать соединить query с query или ее соседями\n",
        "\n",
        "def common_neighbours(graph, query):\n",
        "    common_neigh = [0] * nodes\n",
        "    ### BEGIN SOLUTION\n",
        "    for i in range(nodes):\n",
        "        common_neigh[i] = 0 if graph.has_edge(query, i) else len(list(nx.common_neighbors(graph, query, i)))\n",
        "    common_neigh[query] = 0\n",
        "    ### END SOLUTION\n",
        "    return common_neigh"
      ],
      "execution_count": null,
      "outputs": []
    },
    {
      "cell_type": "code",
      "metadata": {
        "nbgrader": {
          "grade": true,
          "grade_id": "cell-ae27a95f13fd800b",
          "locked": true,
          "points": 1,
          "schema_version": 3,
          "solution": false,
          "task": false
        },
        "id": "qj-XA5HtGhAa"
      },
      "source": [
        "# На примерах в этом блоке вы можете протестировать ваше решение.\n",
        "# Важно: тесты нужны для самопроверки, оцениваться будет само решение\n",
        "\n",
        "query = 422\n",
        "samp = [35561, 98891, 157171, 3060, 198304, 28054, 226896, 20673, 110999, 125875, 125877, 20342, 208996, 205186, 829, 189415, 212872, 164896, 104718, 78418]\n",
        "graph = generate_graph(query, samp)\n",
        "\n",
        "ans = common_neighbours(graph, query)\n",
        "assert index_sorted(ans, reverse=True)[:len(samp)] == [829, 3060, 20673, 13141, 21150, 35561, 36377, 103988, 110999, 172699, 4863, 8961, 10572, 16003, 20342, 28054, 53201, 70084, 70323, 104718]\n",
        "assert check_answer(ans, samp, reverse=True) == 8\n",
        "\n",
        "test_query = 377\n",
        "test_samp = [202525, 196341, 169969, 29141, 159961, 38249, 101144, 1157, 40361, 99572, 64355, 127194, 109845, 217286, 125972, 77367, 6658, 26295, 47705, 200935]\n",
        "test_graph = generate_graph(test_query, test_samp)\n",
        "assert index_sorted(common_neighbours(test_graph, test_query), reverse=True)[:len(test_samp)] == [6658, 26295, 99789, 125972, 134665, 134666, 185446, 17364, 29519, 40361, 64355, 162514, 169969, 183713, 216721, 217286, 222821, 7693, 10838, 16638]"
      ],
      "execution_count": null,
      "outputs": []
    },
    {
      "cell_type": "code",
      "metadata": {
        "nbgrader": {
          "grade": false,
          "grade_id": "cell-ca0306565176b0bf",
          "locked": false,
          "schema_version": 3,
          "solution": true,
          "task": false
        },
        "id": "QKJ5iOUtGhAb"
      },
      "source": [
        "# В этом блоке требуется реализовать метод случайных блужданий.\n",
        "# Обратите внимание на массив used: его можно использовать для того, чтобы проверять, посещалась ли вершина в блуждании ранее\n",
        "# Причем удобно не ставить там метку того, была ли посещена вершина в текущем блуждании.\n",
        "# Вместо этого можно хранить номер последней итерации, на которой была посещена вершина, и сравниваем его с текущим.\n",
        "\n",
        "import random\n",
        "\n",
        "def hit_distance(adjlist, query, time=10):\n",
        "    # инициализация статистик\n",
        "    hit_dist = [0] * nodes  # искомые расстояния\n",
        "    hit_times = [0] * nodes  # количество раз, когда вершина была достигнута в блуждании\n",
        "    used = [0] * nodes  # последняя итерация, на которой вершина была достигнута в блуждании\n",
        "    samples = nodes // time  # количествово блужданий\n",
        "\n",
        "    ### BEGIN SOLUTION\n",
        "    for i in range(1, samples + 1):\n",
        "        current_node = query\n",
        "        for step in range(1, time + 1):\n",
        "            current_node = random.choice(adjlist[current_node])\n",
        "            if used[current_node] != i:\n",
        "                hit_dist[current_node] += step\n",
        "                hit_times[current_node] += 1\n",
        "                used[current_node] = i\n",
        "    for i in range(nodes):\n",
        "        hit_dist[i] += time * (samples - hit_times[i])\n",
        "        hit_dist[i] /= samples\n",
        "    for elem in adjlist[query]:\n",
        "        hit_dist[elem] = time + 1\n",
        "    hit_dist[query] = time + 1\n",
        "    ### END SOLUTION\n",
        "\n",
        "    return hit_dist"
      ],
      "execution_count": null,
      "outputs": []
    },
    {
      "cell_type": "code",
      "metadata": {
        "nbgrader": {
          "grade": true,
          "grade_id": "cell-178a9470c876f360",
          "locked": true,
          "points": 4,
          "schema_version": 3,
          "solution": false,
          "task": false
        },
        "id": "j9CXiVYUGhAb"
      },
      "source": [
        "# Проверьте ваше решение\n",
        "\n",
        "adjlist = nx.convert.to_dict_of_lists(graph)\n",
        "hd = hit_distance(adjlist, query)\n",
        "assert check_answer(hd, samp) >= 8\n",
        "\n",
        "test_adjlist = nx.convert.to_dict_of_lists(test_graph)\n",
        "test_hd = hit_distance(test_adjlist, test_query)\n",
        "assert check_answer(test_hd, test_samp) >= 9"
      ],
      "execution_count": null,
      "outputs": []
    },
    {
      "cell_type": "code",
      "metadata": {
        "nbgrader": {
          "grade": false,
          "grade_id": "cell-259a2f6553144201",
          "locked": false,
          "schema_version": 3,
          "solution": true,
          "task": false
        },
        "id": "Mzm1itdHGhAc"
      },
      "source": [
        "# В этом блоке необходимо реализовать подсчет усеченных моментов достижения в вершину.\n",
        "# Допишите рекуррентную функцию и постобработку (какие вершины точно не должны попасть в ответ?)\n",
        "# В нашем тестовом графе нет петель, но если вы захотите потестировать свое решение на других графах,\n",
        "# обратите внимание, что петля (ребро, идущее из вершины в саму себя) повышает степень вершины на 2\n",
        "\n",
        "def truncated_hitting_time(graph, query, time=10):\n",
        "    tht = [[0 for _ in range(nodes)] for _ in range(time + 1)]\n",
        "    for t in range(1, time + 1):\n",
        "        for vert in range(nodes):\n",
        "            if vert == query:\n",
        "                continue\n",
        "            \n",
        "            if graph.degree[vert] != 0:\n",
        "                ### BEGIN SOLUTION\n",
        "                for elem in graph.neighbors(vert):\n",
        "                    tht[t][vert] += tht[t - 1][elem]\n",
        "                tht[t][vert] /= graph.degree[vert] - 1 if graph.has_edge(vert, vert) else graph.degree[vert]\n",
        "                ### END SOLUTION\n",
        "            tht[t][vert] += 1\n",
        "\n",
        "    ### BEGIN SOLUTION\n",
        "    tht[time][query] = time + 1\n",
        "    for elem in graph.neighbors(query):\n",
        "        tht[time][elem] = time + 1\n",
        "    ### END SOLUTION\n",
        "    return tht[time]"
      ],
      "execution_count": null,
      "outputs": []
    },
    {
      "cell_type": "code",
      "metadata": {
        "nbgrader": {
          "grade": true,
          "grade_id": "cell-470da6efb0732169",
          "locked": true,
          "points": 3,
          "schema_version": 3,
          "solution": false,
          "task": false
        },
        "id": "NxoiNTFxGhAc"
      },
      "source": [
        "# Проверьте ваше решение\n",
        "\n",
        "tht = truncated_hitting_time(graph, query)\n",
        "assert index_sorted(tht)[:len(samp)] == [164896, 254021, 110999, 212872, 20673, 172699, 3060, 104718, 205186, 194186, 35561, 36377, 829, 103988, 157171, 198304, 113283, 21150, 244935, 186662]\n",
        "assert check_answer(tht, samp) == 11\n",
        "\n",
        "test_tht = truncated_hitting_time(test_graph, test_query)\n",
        "assert index_sorted(test_tht)[:len(test_samp)] == [185446, 134665, 134666, 216721, 222821, 125972, 6658, 169969, 26295, 162514, 99789, 202525, 40361, 217286, 183713, 160748, 163128, 64355, 196341, 47705]"
      ],
      "execution_count": null,
      "outputs": []
    },
    {
      "cell_type": "code",
      "metadata": {
        "nbgrader": {
          "grade": false,
          "grade_id": "cell-02d17223704bcedd",
          "locked": false,
          "schema_version": 3,
          "solution": true,
          "task": false
        },
        "id": "EVhvdZKXGhAd"
      },
      "source": [
        "# В этом блоке требуется реализовать функцию, которая принимает две разные статистики и выдает новую,\n",
        "# являющуюся суммой переданных\n",
        "\n",
        "def sum_of_stats(first, second):\n",
        "    ### BEGIN SOLUTION\n",
        "    return [ left + right for left, right in zip(first, second) ]\n",
        "    ### END SOLUTION"
      ],
      "execution_count": null,
      "outputs": []
    },
    {
      "cell_type": "code",
      "metadata": {
        "nbgrader": {
          "grade": true,
          "grade_id": "cell-cdaaccea6ce384d3",
          "locked": true,
          "points": 1,
          "schema_version": 3,
          "solution": false,
          "task": false
        },
        "id": "54bXJyBQGhAd"
      },
      "source": [
        "# Проверьте ваше решение\n",
        "\n",
        "assert check_answer(sum_of_stats(hd, tht), samp) >= 9\n",
        "assert check_answer(sum_of_stats(test_hd, test_tht), test_samp) >= 9"
      ],
      "execution_count": null,
      "outputs": []
    }
  ]
}