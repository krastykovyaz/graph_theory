{
  "nbformat": 4,
  "nbformat_minor": 0,
  "metadata": {
    "kernelspec": {
      "display_name": "Python 3",
      "language": "python",
      "name": "python3"
    },
    "language_info": {
      "codemirror_mode": {
        "name": "ipython",
        "version": 3
      },
      "file_extension": ".py",
      "mimetype": "text/x-python",
      "name": "python",
      "nbconvert_exporter": "python",
      "pygments_lexer": "ipython3",
      "version": "3.7.6"
    },
    "colab": {
      "name": "cw2.ipynb",
      "provenance": [],
      "collapsed_sections": [],
      "toc_visible": true
    }
  },
  "cells": [
    {
      "cell_type": "markdown",
      "metadata": {
        "id": "QwpaKySGwEkY"
      },
      "source": [
        "# Неделя 1, занятие 2. Работа с деревьями\n",
        "\n",
        "В этом ноутбуке мы разберем работу с деревьями и решим некоторые задачи на эту тему."
      ]
    },
    {
      "cell_type": "code",
      "metadata": {
        "id": "w_vi_MOzwTzd"
      },
      "source": [
        "# Задаем граф\n",
        "\n",
        "import networkx as nx\n",
        "\n",
        "G = nx.Graph()\n",
        "\n",
        "G.add_edges_from([('A','B'), ('C','A'), ('C','D'), ('C','F'),('D','E')])\n",
        "\n",
        "\n",
        "nodes=list(G.nodes())\n",
        "edges=list(G.edges())\n",
        "\n",
        "print(\"Список вершин:\",nodes)\n",
        "print(\"Список ребер:\",edges)\n",
        "\n",
        "num_nodes = G.number_of_nodes()\n",
        "num_edges = G.number_of_edges()\n",
        "\n",
        "print(\"Число вершин:\",num_nodes)\n",
        "print(\"Число ребер:\",num_edges)"
      ],
      "execution_count": null,
      "outputs": []
    },
    {
      "cell_type": "code",
      "metadata": {
        "id": "YtfP3PE63Okt"
      },
      "source": [
        "# Рисуем граф\n",
        "\n",
        "import matplotlib.pyplot as plt\n",
        "\n",
        "pos = {'A': (1, 1.5), 'B': (4, 0), 'C': (5, 2), 'D': (2.9, 2.2), 'E': (6, 0.5), 'F': (7.5, 1.5)}\n",
        "\n",
        "\n",
        "\n",
        "def draw_G():\n",
        "    options = {\n",
        "        \"font_size\": 20,\n",
        "        \"node_size\": 1500,\n",
        "        \"node_color\": \"white\",\n",
        "        \"edgecolors\": \"black\",\n",
        "        \"linewidths\": 3,\n",
        "        \"width\": 3,\n",
        "    }\n",
        "\n",
        "    plt.axis([0, 8.5, -0.5, 2.7])\n",
        "\n",
        "    nx.draw_networkx(G, pos, **options)\n",
        "    plt.show()\n",
        "    \n",
        "draw_G()\n"
      ],
      "execution_count": null,
      "outputs": []
    },
    {
      "cell_type": "code",
      "metadata": {
        "id": "nGcYk-Sv3h4Y"
      },
      "source": [
        "# Проверяем граф на древесность\n",
        "\n",
        "print(nx.is_tree(G))\n",
        "draw_G()\n",
        "\n",
        "G.add_edge('B','C')\n",
        "print(nx.is_tree(G))\n",
        "draw_G()\n",
        "G.remove_edge('B','C')"
      ],
      "execution_count": null,
      "outputs": []
    },
    {
      "cell_type": "markdown",
      "metadata": {
        "id": "FFefrlPYD0VD"
      },
      "source": [
        "## Построение дерева с данным набором степеней вершин\n",
        "\n",
        "В теоретической части мы разобрали несколько задач, в которых нужно было по данному набору чисел понять, можно ли построить дерево с соответствующими степенями вершин. Мы знаем, что есть несколько препятствий к тому, чтобы такое дерево существовало: степени должны быть положительны, их сумма должна быть равна $2n-2$, где $n$ — число вершин. Если же эти ограничения были удовлетворены, нам удавалось построить такое дерево. Оказывается, верно, что указанные ограничения единственно возможные, и если эти условия для набора выполнены, то дерево всегда существует! \n",
        "\n",
        "В этом ноутбуке требуется построить дерево с данной последовательностью степеней вершин, если такое дерево существует. На теоретической части занятия мы обсудили как это делать. На каждом шаге достаточно взять вершину степени 1 и соединить с вершиной максимальной степени). Степени соединенных вершин в массиве после этого можно уменьшить на 1, и затем остается лишь повторять эту процедуру.\n",
        "\n",
        "Реализуйте это решение ниже. Обратите внимание на тонкость: когда вам останется провести последнее ребро важно, чтобы две выбранные для соединения вершины были различны."
      ]
    },
    {
      "cell_type": "code",
      "metadata": {
        "id": "2COvUkem6Zm0"
      },
      "source": [
        "# В этом блоке мы соберем полезные комманды, которые могут пригодиться в решении.\n",
        "# Одну из комманд нужно будет реализовать\n",
        "\n",
        "numbers = [2,2,1,1]\n",
        "\n",
        "# Эта строка печатает номер ячейки, содержащей единицу\n",
        "\n",
        "print(\"Номер ячейки, содержащей 1: \", numbers.index(1))\n",
        "\n",
        "# Эта строка печатает максимум чисел в списке\n",
        "\n",
        "print(\"Максимальное число в numbers: \", max(numbers))\n",
        "\n",
        "# Добавьте здесь печать номера ячейки, содержащей максимальный элемент списка\n",
        "\n"
      ],
      "execution_count": null,
      "outputs": []
    },
    {
      "cell_type": "code",
      "metadata": {
        "id": "Cob06d7eD0VK"
      },
      "source": [
        "# Эта функция будет по данному списку чисел строить дерево с соответствующими степенями вершин\n",
        "\n",
        "def create_tree(degrees):\n",
        "\n",
        "    graph = nx.Graph()\n",
        "    #Добавьте сюда вашу реализацию\n",
        "    \n",
        "\n",
        "    return graph"
      ],
      "execution_count": null,
      "outputs": []
    },
    {
      "cell_type": "code",
      "metadata": {
        "id": "63ChObSMD0VM"
      },
      "source": [
        "# В этом блоке можно протестировать ваше решение\n",
        "\n",
        "G = create_tree([2,2,1,1])\n",
        "\n",
        "#G = create_tree([4, 3, 4, 2, 1, 1, 1, 1, 1, 1, 1])\n",
        "\n",
        "nx.draw_networkx(G)"
      ],
      "execution_count": null,
      "outputs": []
    }
  ]
}