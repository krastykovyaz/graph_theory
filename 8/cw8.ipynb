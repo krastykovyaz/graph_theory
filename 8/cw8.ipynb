{
 "cells": [
  {
   "cell_type": "markdown",
   "metadata": {
    "id": "FvXG76a7-rQ2"
   },
   "source": [
    "# Занятие 8. Сборка генома\n",
    "\n",
    "В этом ноутбуке мы реализуем алгоритм для сборки генома, основанный на поиске Эйлеровых циклов. Мы будем собирать слово по данному списку подслов длины k."
   ]
  },
  {
   "cell_type": "code",
   "execution_count": 1,
   "metadata": {
    "id": "EhJOzYXy247c"
   },
   "outputs": [
    {
     "name": "stdout",
     "output_type": "stream",
     "text": [
      "Short reads: {'ATGC', 'GATG', 'GCTG', 'CCGA', 'GCCG', 'TGCC', 'CGCC', 'CGAT', 'CCGC', 'TGCT'}\n",
      "Reads: Counter({'ATGCC': 1, 'TGCCG': 1, 'GCCGC': 1, 'CCGCC': 1, 'CGCCG': 1, 'GCCGA': 1, 'CCGAT': 1, 'CGATG': 1, 'GATGC': 1, 'ATGCT': 1, 'TGCTG': 1})\n"
     ]
    }
   ],
   "source": [
    "# В этом блоке генерируются тесты: мы нарезаем данную последовательность на подпоследовательности нужной длины\n",
    "\n",
    "from collections import Counter\n",
    "\n",
    "def gen_reads(genome, k):\n",
    "    short_reads = set(genome[i:i+k-1] for i in range(len(genome) - k + 2))\n",
    "    reads = Counter()\n",
    "    for i in range(len(genome) - k + 1):\n",
    "        reads[genome[i:i+k]] += 1\n",
    "    return short_reads, reads\n",
    "\n",
    "short_reads_var, reads_var = gen_reads('ATGCCGCCGATGCTG', 5)\n",
    "print(f'Short reads: {short_reads_var}')\n",
    "print(f'Reads: {reads_var}')"
   ]
  },
  {
   "cell_type": "code",
   "execution_count": null,
   "metadata": {
    "id": "Nep9cDN_4O8y"
   },
   "outputs": [],
   "source": [
    "# В этом блоке нужно построить граф по данным наборам подслов\n",
    "\n",
    "import networkx as nx\n",
    "\n",
    "def gen_graph(short_reads, reads):\n",
    "    G = nx.MultiDiGraph()\n",
    "    # Добавьте здесь ваше решение\n",
    "    \n",
    "    \n",
    "    return G\n",
    "\n",
    "H = gen_graph(short_reads_var, reads_var)\n",
    "nx.draw(H, with_labels=True, node_size=500, node_color='white', font_size=16)"
   ]
  },
  {
   "cell_type": "code",
   "execution_count": null,
   "metadata": {
    "id": "bAGjczw158j4"
   },
   "outputs": [],
   "source": [
    "# В этом блоке строится Эйлеров путь в данном графе.\n",
    "\n",
    "path_var = list(nx.algorithms.euler.eulerian_path(H))\n",
    "path_var"
   ]
  },
  {
   "cell_type": "code",
   "execution_count": null,
   "metadata": {
    "id": "cHBfCChqAS9j"
   },
   "outputs": [],
   "source": [
    "# В это блоке по данному пути нужно построить последовательность\n",
    "\n",
    "def sequence_genome(path):\n",
    "    path = list(path)\n",
    "    print(path)\n",
    "    ans = ''\n",
    "    # Добавьте здесь ваше решение\n",
    "    \n",
    "    return ans\n",
    "\n",
    "sequence_genome(path_var)"
   ]
  },
  {
   "cell_type": "code",
   "execution_count": null,
   "metadata": {
    "id": "l8gsFvSlChuB"
   },
   "outputs": [],
   "source": [
    "# В этом блоке мы вычисляем расстояние Левенштейна (разрешенные операции: добавление, удаление и замена)\n",
    "\n",
    "def levenshteinDistance(s1, s2):\n",
    "    if len(s1) > len(s2):\n",
    "        s1, s2 = s2, s1\n",
    "\n",
    "    distances = range(len(s1) + 1)\n",
    "    for i2, c2 in enumerate(s2):\n",
    "        distances_ = [i2+1]\n",
    "        for i1, c1 in enumerate(s1):\n",
    "            if c1 == c2:\n",
    "                distances_.append(distances[i1])\n",
    "            else:\n",
    "                distances_.append(1 + min((distances[i1], distances[i1 + 1], distances_[-1])))\n",
    "        distances = distances_\n",
    "    return distances[-1]"
   ]
  },
  {
   "cell_type": "code",
   "execution_count": null,
   "metadata": {
    "id": "mtBBbUqx_aAj"
   },
   "outputs": [],
   "source": [
    "# В этом блоке можно потестировать решение\n",
    "\n",
    "import random as rand\n",
    "\n",
    "genome = ''.join(rand.choices('ACGT',k=2**8))\n",
    "\n",
    "print(genome)\n",
    "\n",
    "short_reads_var, reads_var = gen_reads(genome, 7)\n",
    "#print(f'Short reads: {short_reads_var}')\n",
    "#print(f'Reads: {reads_var}')\n",
    "\n",
    "H = gen_graph(short_reads_var, reads_var)\n",
    "nx.draw(H, with_labels=False, node_size=20, node_color='black', font_size=6)\n",
    "\n",
    "print(sorted(dict(H.degree()).values(),reverse=True))\n",
    "#print(max(dict(H.degree()).values()))\n",
    "\n",
    "path_var = list(nx.algorithms.euler.eulerian_path(H))\n",
    "genome_res = sequence_genome(path_var)\n",
    "if genome == genome_res:\n",
    "  print(\"Sucess\")\n",
    "\n",
    "#print(genome)\n",
    "#print(genome_res)\n",
    "print(f'Расстояние Левенштейна: {levenshteinDistance(genome,genome_res)}')"
   ]
  }
 ],
 "metadata": {
  "colab": {
   "collapsed_sections": [],
   "name": "cw8_sol.ipynb",
   "provenance": []
  },
  "kernelspec": {
   "display_name": "Python 3 (ipykernel)",
   "language": "python",
   "name": "python3"
  },
  "language_info": {
   "codemirror_mode": {
    "name": "ipython",
    "version": 3
   },
   "file_extension": ".py",
   "mimetype": "text/x-python",
   "name": "python",
   "nbconvert_exporter": "python",
   "pygments_lexer": "ipython3",
   "version": "3.9.7"
  }
 },
 "nbformat": 4,
 "nbformat_minor": 1
}
