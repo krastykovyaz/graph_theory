{
  "nbformat": 4,
  "nbformat_minor": 0,
  "metadata": {
    "colab": {
      "name": "cw8_sol.ipynb",
      "provenance": [],
      "collapsed_sections": []
    },
    "kernelspec": {
      "name": "python3",
      "display_name": "Python 3"
    },
    "language_info": {
      "name": "python"
    }
  },
  "cells": [
    {
      "cell_type": "markdown",
      "metadata": {
        "id": "FvXG76a7-rQ2"
      },
      "source": [
        "# Занятие 8. Сборка генома\n",
        "\n",
        "В этом ноутбуке мы реализуем алгоритм для сборки генома, основанный на поиске Эйлеровых циклов. Мы будем собирать слово по данному списку подслов длины k."
      ]
    },
    {
      "cell_type": "code",
      "metadata": {
        "id": "EhJOzYXy247c"
      },
      "source": [
        "# В этом блоке генерируются тесты: мы нарезаем данную последовательность на подпоследовательности нужной длины\n",
        "\n",
        "from collections import Counter\n",
        "\n",
        "def gen_reads(genome, k):\n",
        "    short_reads = set(genome[i:i+k-1] for i in range(len(genome) - k + 2))\n",
        "    reads = Counter()\n",
        "    for i in range(len(genome) - k + 1):\n",
        "        reads[genome[i:i+k]] += 1\n",
        "    return short_reads, reads\n",
        "\n",
        "short_reads_var, reads_var = gen_reads('ATGCCGCCGATGCTG', 5)\n",
        "print(f'Short reads: {short_reads_var}')\n",
        "print(f'Reads: {reads_var}')"
      ],
      "execution_count": null,
      "outputs": []
    },
    {
      "cell_type": "code",
      "metadata": {
        "id": "Nep9cDN_4O8y"
      },
      "source": [
        "# В этом блоке нужно построить граф по данным наборам подслов\n",
        "\n",
        "import networkx as nx\n",
        "\n",
        "def gen_graph(short_reads, reads):\n",
        "    G = nx.MultiDiGraph()\n",
        "    # Добавьте здесь ваше решение\n",
        "    G.add_nodes_from(short_reads)\n",
        "    for a in short_reads:\n",
        "        for b in short_reads:\n",
        "            if a[1:] == b[:-1]:\n",
        "                for _ in range(reads[a[:1] + b]):\n",
        "                    G.add_edge(a, b)\n",
        "    return G\n",
        "\n",
        "H = gen_graph(short_reads_var, reads_var)\n",
        "nx.draw(H, with_labels=True, node_size=500, node_color='white', font_size=16)"
      ],
      "execution_count": null,
      "outputs": []
    },
    {
      "cell_type": "code",
      "metadata": {
        "id": "bAGjczw158j4"
      },
      "source": [
        "# В этом блоке строится Эйлеров путь в данном графе.\n",
        "\n",
        "path_var = list(nx.algorithms.euler.eulerian_path(H))\n",
        "path_var"
      ],
      "execution_count": null,
      "outputs": []
    },
    {
      "cell_type": "code",
      "metadata": {
        "id": "cHBfCChqAS9j"
      },
      "source": [
        "# В это блоке по данному пути нужно построить последовательность\n",
        "\n",
        "def sequence_genome(path):\n",
        "    path = list(path)\n",
        "    print(path)\n",
        "    ans = ''\n",
        "    # Добавьте здесь ваше решение\n",
        "    ans += path[0][0]\n",
        "    for _, symb in path:\n",
        "        ans += symb[-1:]\n",
        "    return ans\n",
        "\n",
        "sequence_genome(path_var)"
      ],
      "execution_count": null,
      "outputs": []
    },
    {
      "cell_type": "code",
      "metadata": {
        "id": "l8gsFvSlChuB"
      },
      "source": [
        "# В этом блоке мы вычисляем расстояние Левенштейна (разрешенные операции: добавление, удаление и замена)\n",
        "\n",
        "def levenshteinDistance(s1, s2):\n",
        "    if len(s1) > len(s2):\n",
        "        s1, s2 = s2, s1\n",
        "\n",
        "    distances = range(len(s1) + 1)\n",
        "    for i2, c2 in enumerate(s2):\n",
        "        distances_ = [i2+1]\n",
        "        for i1, c1 in enumerate(s1):\n",
        "            if c1 == c2:\n",
        "                distances_.append(distances[i1])\n",
        "            else:\n",
        "                distances_.append(1 + min((distances[i1], distances[i1 + 1], distances_[-1])))\n",
        "        distances = distances_\n",
        "    return distances[-1]"
      ],
      "execution_count": null,
      "outputs": []
    },
    {
      "cell_type": "code",
      "metadata": {
        "id": "mtBBbUqx_aAj"
      },
      "source": [
        "# В этом блоке можно потестировать решение\n",
        "\n",
        "import random as rand\n",
        "\n",
        "genome = ''.join(rand.choices('ACGT',k=2**8))\n",
        "\n",
        "print(genome)\n",
        "\n",
        "short_reads_var, reads_var = gen_reads(genome, 7)\n",
        "#print(f'Short reads: {short_reads_var}')\n",
        "#print(f'Reads: {reads_var}')\n",
        "\n",
        "H = gen_graph(short_reads_var, reads_var)\n",
        "nx.draw(H, with_labels=False, node_size=20, node_color='black', font_size=6)\n",
        "\n",
        "print(sorted(dict(H.degree()).values(),reverse=True))\n",
        "#print(max(dict(H.degree()).values()))\n",
        "\n",
        "path_var = list(nx.algorithms.euler.eulerian_path(H))\n",
        "genome_res = sequence_genome(path_var)\n",
        "if genome == genome_res:\n",
        "  print(\"Sucess\")\n",
        "\n",
        "#print(genome)\n",
        "#print(genome_res)\n",
        "print(f'Расстояние Левенштейна: {levenshteinDistance(genome,genome_res)}')"
      ],
      "execution_count": null,
      "outputs": []
    }
  ]
}