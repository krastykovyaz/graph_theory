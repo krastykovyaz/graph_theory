{
 "cells": [
  {
   "cell_type": "markdown",
   "metadata": {
    "id": "Ok3nh4_bzua7"
   },
   "source": [
    "# Ориентированные графы\n",
    "\n",
    "В этом ноутбуке мы посмотрим на примеры работы с ориентированными графами"
   ]
  },
  {
   "cell_type": "code",
   "execution_count": 1,
   "metadata": {
    "id": "7LmnanLMzua8"
   },
   "outputs": [
    {
     "name": "stdout",
     "output_type": "stream",
     "text": [
      "Список вершин: ['A', 'B', 'C', 'D', 'E', 'F']\n",
      "Список ребер: [('A', 'B'), ('B', 'C'), ('C', 'A'), ('C', 'D'), ('C', 'E'), ('D', 'E'), ('F', 'C')]\n",
      "Число вершин: 6\n",
      "Число ребер: 7\n"
     ]
    }
   ],
   "source": [
    "# Задаем граф\n",
    "\n",
    "import networkx as nx\n",
    "\n",
    "G = nx.DiGraph()\n",
    "\n",
    "G.add_edge('A','B')\n",
    "G.add_edges_from([('B','C'), ('C','A'), ('C','D'), ('C','E'),('D','E'),('F','C')])\n",
    "\n",
    "\n",
    "nodes=list(G.nodes())\n",
    "edges=list(G.edges())\n",
    "\n",
    "print(\"Список вершин:\",nodes)\n",
    "print(\"Список ребер:\",edges)\n",
    "\n",
    "num_nodes = G.number_of_nodes()\n",
    "num_edges = G.number_of_edges()\n",
    "\n",
    "print(\"Число вершин:\",num_nodes)\n",
    "print(\"Число ребер:\",num_edges)"
   ]
  },
  {
   "cell_type": "code",
   "execution_count": 2,
   "metadata": {
    "id": "mwG54xyMzubC"
   },
   "outputs": [
    {
     "data": {
      "image/png": "[encoded data removed]",
      "text/plain": [
       "<Figure size 432x288 with 1 Axes>"
      ]
     },
     "metadata": {},
     "output_type": "display_data"
    }
   ],
   "source": [
    "# Рисуем граф\n",
    "\n",
    "import matplotlib.pyplot as plt\n",
    "\n",
    "pos = {'A': (1, 1.5), 'B': (4, 0), 'C': (5, 2), 'D': (2.9, 2.2), 'E': (6, 0.5), 'F': (7.5, 1.5)}\n",
    "\n",
    "def draw_G(G, axis=False, pos=None):\n",
    "    options = {\n",
    "        \"font_size\": 20,\n",
    "        \"node_size\": 1500,\n",
    "        \"node_color\": \"white\",\n",
    "        \"edgecolors\": \"black\",\n",
    "        \"linewidths\": 3,\n",
    "        \"width\": 3,\n",
    "    }\n",
    "\n",
    "    if axis:\n",
    "        plt.axis([0, 8.5, -0.5, 2.7])\n",
    "    nx.draw_networkx(G, pos, **options)\n",
    "    plt.show()\n",
    "    \n",
    "draw_G(G, True, pos)"
   ]
  },
  {
   "cell_type": "code",
   "execution_count": 3,
   "metadata": {
    "id": "fc2Rh4wwzubE"
   },
   "outputs": [
    {
     "name": "stdout",
     "output_type": "stream",
     "text": [
      "Степень вершины: 5\n",
      "Входная степень вершины: 2\n",
      "Исходящая степень вершины: 3\n"
     ]
    }
   ],
   "source": [
    "# Ищем степень вершины\n",
    "\n",
    "print(\"Степень вершины:\",G.degree('C'))\n",
    "print(\"Входная степень вершины:\",G.in_degree('C'))\n",
    "print(\"Исходящая степень вершины:\",G.out_degree('C'))"
   ]
  },
  {
   "cell_type": "code",
   "execution_count": 4,
   "metadata": {
    "id": "-tIv37BJzubH"
   },
   "outputs": [
    {
     "name": "stdout",
     "output_type": "stream",
     "text": [
      "Что выдает G[v]: ['A', 'D', 'E']\n",
      "А вот соседи по входящим ребрам: ['B', 'F']\n"
     ]
    }
   ],
   "source": [
    "# Ищем соседей\n",
    "\n",
    "print(\"Что выдает G[v]:\",list(G['C']))\n",
    "\n",
    "print(\"А вот соседи по входящим ребрам:\",list(G.pred['C']))"
   ]
  },
  {
   "cell_type": "code",
   "execution_count": 5,
   "metadata": {
    "id": "aFsCc7YazubJ"
   },
   "outputs": [
    {
     "data": {
      "text/plain": [
       "False"
      ]
     },
     "execution_count": 5,
     "metadata": {},
     "output_type": "execute_result"
    }
   ],
   "source": [
    "# Проверяем достижимость\n",
    "\n",
    "nx.has_path(G,'D','A')"
   ]
  },
  {
   "cell_type": "code",
   "execution_count": 6,
   "metadata": {
    "id": "d4JO1G8zzubL"
   },
   "outputs": [
    {
     "data": {
      "text/plain": [
       "False"
      ]
     },
     "execution_count": 6,
     "metadata": {},
     "output_type": "execute_result"
    }
   ],
   "source": [
    "# Проверяем связность\n",
    "\n",
    "# G.add_edges_from([('E','F'),('F','A')])\n",
    "\n",
    "# draw_G(G, True, pos)\n",
    "\n",
    "nx.is_strongly_connected(G)\n",
    "\n",
    "# G.remove_edges_from([('E','F'),('F','A')])"
   ]
  },
  {
   "cell_type": "markdown",
   "metadata": {
    "id": "4C2v6YJuWYop"
   },
   "source": [
    "Ниже мы реализуем поиск в данном ориентированном графе либо стока, либо цикла.\n",
    "\n",
    "В целом, для этого достаточно начать ходить по графу из любой вершины до тех пор, пока мы либо не придем в сток, либо не посетим одну и ту же вершину дважды. Но для такого решения нам нужно хранить пройденные вершины, что может потребовать памяти линейной по сравнению с размером графа.\n",
    "\n",
    "Мы построим решение эффективнее с точки зрения памяти, в нем нам потребуется память, линейная по длине цикла, который мы найдем. \n",
    "\n",
    "Сначала мы отдельно реализуем проверку вершины на то, является ли она стоком. \n",
    "\n",
    "Затем мы реализуем функцию, которая находит вершину, которая либо является стоком, либо лежит на цикле. Для этого достаточно для каждой вершины выбрать фиксированное исходящее ребро и переходить по этим ребрам n раз, где n — число вершин в графе.\n",
    "\n",
    "Наконец, затем мы реализуем функцию, которая находит в графе либо сток, либо цикл. Для этого воспользуемся предыдущей функцией, и если она возвращает вершину на цикле, то мы проходим по циклу пока не попадем в начальную вершину второй раз, параллельно запоминая вершины цикла."
   ]
  },
  {
   "cell_type": "code",
   "execution_count": 12,
   "metadata": {
    "id": "4zj2-QATzubO"
   },
   "outputs": [
    {
     "name": "stdout",
     "output_type": "stream",
     "text": [
      "Вершина E является стоком: True\n"
     ]
    }
   ],
   "source": [
    "# В этом блоке нужно реализовать проверку вершины на то, является ли она стоком\n",
    "\n",
    "\n",
    "def sink(G, v):\n",
    "    # Добавьте здесь ваше решение\n",
    "    if len(list(G[v])) == 0:\n",
    "        return True\n",
    "    return False\n",
    "    \n",
    "\n",
    "# v = 'C'\n",
    "# v = 'E'\n",
    "print(f'Вершина {v} является стоком: {sink(G, v)}')\n",
    "\n"
   ]
  },
  {
   "cell_type": "code",
   "execution_count": 27,
   "metadata": {
    "id": "Oaz11KuCZ0lp"
   },
   "outputs": [
    {
     "name": "stdout",
     "output_type": "stream",
     "text": [
      "C\n"
     ]
    },
    {
     "data": {
      "image/png": "[encoded data removed]",
      "text/plain": [
       "<Figure size 432x288 with 1 Axes>"
      ]
     },
     "metadata": {},
     "output_type": "display_data"
    }
   ],
   "source": [
    "# В этом блоке нужно реализовать функцию, которая по данному графу и данной вершине находит вершину, достижимую из данной, либо лежащую на цикле, либо являющуюся стоком\n",
    "visited = set()\n",
    "def find_cycle_or_sink(G, v):\n",
    "    # Добавьте здесь ваше решение\n",
    "    if sink(G, v) == False and v not in visited:\n",
    "        visited.add(v)\n",
    "        for u in list(G[v]):\n",
    "            find_cycle_or_sink(G, u)\n",
    "        return list(visited)[-1]\n",
    "    else:\n",
    "        return v\n",
    "\n",
    "print(find_cycle_or_sink(G, 'F'))\n",
    "\n",
    "draw_G(G, True, pos)"
   ]
  },
  {
   "cell_type": "code",
   "execution_count": null,
   "metadata": {
    "id": "bmdlcbtTa8Wb"
   },
   "outputs": [],
   "source": [
    "# В этом блоке нужно реализовать функцию, которая по данному графу и данной вершине, лежащей на цикле, выдает этот цикл\n",
    "\n",
    "def build_cycle(G, v):\n",
    "    cycle = [ v ]\n",
    "    # Добавьте здесь ваше решение\n",
    "    \n",
    "    return cycle\n",
    "\n",
    "v = find_cycle_or_sink(G, 'C')\n",
    "if sink(G, v):\n",
    "    print(f'Сток: {v}')\n",
    "else:\n",
    "    print(f'Цикл: {build_cycle(G, v)}')"
   ]
  }
 ],
 "metadata": {
  "colab": {
   "name": "cw4_sol.ipynb",
   "provenance": []
  },
  "kernelspec": {
   "display_name": "Python 3 (ipykernel)",
   "language": "python",
   "name": "python3"
  },
  "language_info": {
   "codemirror_mode": {
    "name": "ipython",
    "version": 3
   },
   "file_extension": ".py",
   "mimetype": "text/x-python",
   "name": "python",
   "nbconvert_exporter": "python",
   "pygments_lexer": "ipython3",
   "version": "3.9.7"
  }
 },
 "nbformat": 4,
 "nbformat_minor": 1
}
