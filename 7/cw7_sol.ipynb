{
  "nbformat": 4,
  "nbformat_minor": 0,
  "metadata": {
    "colab": {
      "name": "cw7_sol.ipynb",
      "provenance": []
    },
    "kernelspec": {
      "name": "python3",
      "display_name": "Python 3"
    },
    "language_info": {
      "name": "python"
    }
  },
  "cells": [
    {
      "cell_type": "markdown",
      "metadata": {
        "id": "Gfec54Y8Tk7p"
      },
      "source": [
        "# Неделя 4, занятие 1. Паросочетания\n",
        "\n",
        "В этом ноутбуке мы реализуем алгоритм Гэйла-Шепли поиска стабильного паросочетания"
      ]
    },
    {
      "cell_type": "code",
      "metadata": {
        "id": "8EWGQN0jZNJP"
      },
      "source": [
        "from itertools import takewhile\n",
        "\n",
        "# Здесь LeftPreferences и RightPreferences — списки списков предпочтений\n",
        "# LeftPreferences[0] — список предпочтений нулевой вершины слева\n",
        "def stableMatching(n, LeftPreferences, RightPreferences):\n",
        "\n",
        "    # Заводим список левых вершин без пары, изачально это все левые вершины\n",
        "    UnassignedLeft = list(range(n)) \n",
        "    # Список пар для левых вершин, изначально пуст\n",
        "    PairsForLeft = [None] * n                      \n",
        "    # Список пар для правых вершин, изачально пуст\n",
        "    PairsForRight = [None] * n                      \n",
        "    # Указатели на следующее адресата следующего предложение для каждой из левых вершин\n",
        "    # Изначально указывает на первую позицию в ее списке предпочтений\n",
        "    NextLeftChoice = [0] * n                       \n",
        "    \n",
        "    # Пока есть левая вершина без пары, повторяем следующий цикл\n",
        "    while UnassignedLeft:\n",
        "        # Берем произвольную левую вершину без пары\n",
        "        l = UnassignedLeft[0]                      \n",
        "        # Для удобства сохраняем ее предпочтения в отдельный список\n",
        "        LPreferences = LeftPreferences[l]       \n",
        "        # Находим правую вершину, которой выбранная левая вершина делает следующее предложение\n",
        "        r = LPreferences[NextLeftChoice[l]] \n",
        "        # Для удобства сохраняем ее предпочтения в отдельный список\n",
        "        RPreferences = RightPreferences[r]\n",
        "        # Находим текущую пару выбранной правой вершины\n",
        "        CurrentPairForR = PairsForRight[r]         \n",
        "        \n",
        "        # Добавьте здесь ваш код\n",
        "        boo=False\n",
        "        \n",
        "        if CurrentPairForR == None:\n",
        "          boo=True\n",
        "        else:\n",
        "          BetterPairForR = takewhile(lambda x: x != CurrentPairForR, RPreferences)\n",
        "          boo = any(preference == l for preference in BetterPairForR)\n",
        "        \n",
        "        if boo:\n",
        "          PairsForLeft[l]=r\n",
        "          PairsForRight[r]=l\n",
        "          if CurrentPairForR == None:\n",
        "            UnassignedLeft.pop(0)\n",
        "          else:\n",
        "            UnassignedLeft[0]=CurrentPairForR\n",
        "        NextLeftChoice[l]=NextLeftChoice[l]+1\n",
        "          \n",
        "\n",
        "        # Теперь выбранная левая вершина должна сделать предложение выбранной правой вершину \n",
        "        # Определите, принимает ли правая вершина предложение и обновите следующие значения:\n",
        "        # 1. PairsForLeft\n",
        "        # 2. PairsForRight\n",
        "        # 3. UnassignedLeft\n",
        "        # 4. NextLeftChoice\n",
        "            \n",
        "    # Обратите внимание, что если не обновлять некоторые значения,\n",
        "    # то цикл будет повторяться до бесконечности\n",
        "    # В частности, это случится, если запустить код без доработки\n",
        "\n",
        "    return PairsForLeft\n",
        "    \n"
      ],
      "execution_count": 6,
      "outputs": []
    },
    {
      "cell_type": "code",
      "metadata": {
        "id": "O4_sBQ3LZc3i"
      },
      "source": [
        "# Здесь реализованы функции для тестирования решения\n",
        "\n",
        "def print_test(n, PairsForLeft, LeftPreferences, RightPreferences):\n",
        "    return \"На входе \\nn = {}, \\nLeftPreferences = {}, \\nRightPreferences = {}, \\nваш алгоритм выдает {}, \\nчто неправильно, поскольку\".format(n, LeftPreferences, RightPreferences, PairsForLeft)\n",
        "    \n",
        "def check(n, PairsForLeft, LeftPreferences, RightPreferences):\n",
        "    for l in range(n):\n",
        "        r = PairsForLeft[l]\n",
        "        LLikes = LeftPreferences[l]\n",
        "        LLikesBetter = LLikes[:LLikes.index(r)]\n",
        "        RLikes = RightPreferences[r]\n",
        "        RLikesBetter = RLikes[:RLikes.index(l)]\n",
        "        for x in RLikesBetter:\n",
        "            y = PairsForLeft[x]\n",
        "            XLikes = LeftPreferences[x]\n",
        "            if XLikes.index(y) > XLikes.index(r):\n",
        "                print(\"{} \\nлевая вершина {} и правая вершина {} предпочитают друг друга своим парам\".format(print_test(n, PairsForLeft, LeftPreferences, RightPreferences), x, r))\n",
        "                return False\n",
        "        for y in LLikesBetter:\n",
        "            x = PairsForLeft.index(y)\n",
        "            YLikes = RightPreferences[y]\n",
        "            if (YLikes.index(x) > YLikes.index(l)):\n",
        "                print(\"{} \\nлевая вершина {} и правая вершина {} предпочитают друг друга своим парам\".format(print_test(n, PairsForLeft, LeftPreferences, RightPreferences),l, y))\n",
        "                return False\n",
        "    return True\n",
        "    \n",
        "def run_test(n, LeftPreferences, RightPreferences):\n",
        "    PairsForLeft = stableMatching(n, LeftPreferences, RightPreferences)\n",
        "    if not isinstance(PairsForLeft,list) or len(PairsForLeft) != n:\n",
        "      print(\"Функция должна вернуть список длины n. На входе \\nn = {}, \\nLeftPreferences = {}, \\nRightPreferences = {}, \\nваш алгоритм выдает {}\".format(n, LeftPreferences, RightPreferences, PairsForLeft))\n",
        "      return False\n",
        "    if set(PairsForLeft) != set(range(n)):\n",
        "      print(\"Функция должна вернуть список, содержащий числа от 0 до (n-1) по одному разу. На входе \\nn = {}, \\nLeftPreferences = {}, \\nRightPreferences = {}, \\nваш алгоритм выдает {}\".format(n, LeftPreferences, RightPreferences, PairsForLeft))\n",
        "      return False\n",
        "    return check(n, PairsForLeft, LeftPreferences, RightPreferences)  \n"
      ],
      "execution_count": 2,
      "outputs": []
    },
    {
      "cell_type": "code",
      "metadata": {
        "id": "WqBQNat3gySs",
        "colab": {
          "base_uri": "https://localhost:8080/"
        },
        "outputId": "a9117891-ab74-4afe-c227-b8cd1c299258"
      },
      "source": [
        "# Этот и следующие блоки можно использовать для тестирования решения\n",
        "# Тест 1\n",
        "\n",
        "n=1\n",
        "LeftPreferences = [[0]] \n",
        "RightPreferences = [[0]]\n",
        "if run_test(n, LeftPreferences, RightPreferences):\n",
        "  print('Тест прошел успешно!')"
      ],
      "execution_count": 7,
      "outputs": [
        {
          "output_type": "stream",
          "name": "stdout",
          "text": [
            "Тест прошел успешно!\n"
          ]
        }
      ]
    },
    {
      "cell_type": "code",
      "metadata": {
        "id": "VqnZmYibhGpv",
        "colab": {
          "base_uri": "https://localhost:8080/"
        },
        "outputId": "5fa327da-45a3-4e34-c23f-a6d869dec8ab"
      },
      "source": [
        "# Тест 2\n",
        "\n",
        "n=2\n",
        "LeftPreferences   = [[0,1],\n",
        "                    [0,1]] \n",
        "RightPreferences = [[1,0],\n",
        "                    [0,1]]\n",
        "\n",
        "if run_test(n, LeftPreferences, RightPreferences):\n",
        "  print('Тест прошел успешно!')"
      ],
      "execution_count": 8,
      "outputs": [
        {
          "output_type": "stream",
          "name": "stdout",
          "text": [
            "Тест прошел успешно!\n"
          ]
        }
      ]
    },
    {
      "cell_type": "code",
      "metadata": {
        "id": "bxaMmupKhTw2",
        "colab": {
          "base_uri": "https://localhost:8080/"
        },
        "outputId": "2b8cfe96-7437-445f-e527-a67565971205"
      },
      "source": [
        "# Тест 3\n",
        "\n",
        "n=4\n",
        "LeftPreferences   = [[0,1,3,2],\n",
        "                    [0,2,3,1],\n",
        "                    [1,0,2,3],\n",
        "                    [0,3,1,2]] \n",
        "RightPreferences = [[3,1,2,0],\n",
        "                    [3,1,0,2],\n",
        "                    [0,3,1,2],\n",
        "                    [1,0,3,2]]\n",
        "\n",
        "if run_test(n, LeftPreferences, RightPreferences):\n",
        "  print('Тест прошел успешно!')"
      ],
      "execution_count": 9,
      "outputs": [
        {
          "output_type": "stream",
          "name": "stdout",
          "text": [
            "Тест прошел успешно!\n"
          ]
        }
      ]
    },
    {
      "cell_type": "code",
      "metadata": {
        "id": "9ZD1whSFhbRF",
        "colab": {
          "base_uri": "https://localhost:8080/"
        },
        "outputId": "1482f08b-8b94-4348-a3f0-c746aa29ab20"
      },
      "source": [
        "# Тест 4\n",
        "\n",
        "n=5\n",
        "LeftPreferences = [[x for x in range(n)] for y in range(n)] \n",
        "RightPreferences = [[x for x in range(n)] for y in range(n)]\n",
        "\n",
        "if run_test(n, LeftPreferences, RightPreferences):\n",
        "  print('Тест прошел успешно!')\n"
      ],
      "execution_count": 10,
      "outputs": [
        {
          "output_type": "stream",
          "name": "stdout",
          "text": [
            "Тест прошел успешно!\n"
          ]
        }
      ]
    },
    {
      "cell_type": "code",
      "metadata": {
        "id": "05MRnSh4hikR",
        "colab": {
          "base_uri": "https://localhost:8080/"
        },
        "outputId": "318702a8-babb-4516-a0b4-17c79305319a"
      },
      "source": [
        "# Тест 5\n",
        "\n",
        "n =  5\n",
        "LeftPreferences    = [[3, 2, 1, 0, 4],\n",
        "                     [3, 4, 1, 0, 2],\n",
        "                     [4, 2, 1, 0, 3],\n",
        "                     [3, 0, 2, 4, 1],\n",
        "                     [4, 3, 0, 1, 2]]\n",
        "RightPreferences  = [[3, 2, 1, 0, 4],\n",
        "                     [3, 4, 1, 0, 2],\n",
        "                     [4, 2, 1, 0, 3],\n",
        "                     [3, 0, 2, 4, 1],\n",
        "                     [4, 3, 0, 1, 2]]\n",
        "\n",
        "if run_test(n, LeftPreferences, RightPreferences):\n",
        "  print('Тест прошел успешно!')"
      ],
      "execution_count": 11,
      "outputs": [
        {
          "output_type": "stream",
          "name": "stdout",
          "text": [
            "Тест прошел успешно!\n"
          ]
        }
      ]
    }
  ]
}