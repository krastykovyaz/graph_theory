{
 "cells": [
  {
   "cell_type": "markdown",
   "metadata": {
    "id": "Sk1wIDuOH2Lh"
   },
   "source": [
    "# Домашнее задание 1, задача 1\n",
    "\n",
    "В этом задании мы рассмотрим граф товаров, часто покупаемых вместе, и попробуем выделить группы взаимосвязанных ключевых товаров, которые покупают со многими другими товарами той же группы. Для этого мы хотим последовательно удалять из графа вершины степени не больше 5 до тех пор, пока такие вершины остаются. После этого компоненты связности получившегося графа как раз и будем считать такими группами ключевых продуктов. \n",
    "\n",
    "В результате работы программа должна построить описанный выше граф и напечатать количество компонент связности в нем.\n",
    "\n",
    "---\n",
    "**Правила сдачи.** Это первая из двух задач домашнего задания 1. Каждая задача оценивается в 5 баллов.\n",
    "\n",
    "Дедлайн первого домашнего задания --- 30 сентября в 19:00. Решения нужно отправить по адресу pygraphs.sber@gmail.com. Решения будут проверены до 19:00 1 октября. \n",
    "\n",
    "Также можно отправить решения до 19:00 28 сентября. Тогда они будут проверены до 19:00 29 сентября и в случае наличия ошибок можно будет успеть их исправить до основного дедлайна.\n",
    "\n",
    "---\n",
    "\n"
   ]
  },
  {
   "cell_type": "code",
   "execution_count": null,
   "metadata": {
    "id": "1kWZw5S35Oe1"
   },
   "outputs": [],
   "source": [
    "# Задаем граф\n",
    "\n",
    "import networkx as nx\n",
    "import matplotlib.pyplot as plt\n",
    "\n",
    "# Считываем данные из файла и заводим граф G_am\n",
    "G_am = nx.read_edgelist(\"amazon0302.txt\", create_using=nx.Graph(), nodetype=int, data=False)\n",
    "\n",
    "G_am = nx.convert_node_labels_to_integers(G_am, ordering='decreasing degree')\n",
    "\n",
    "# Печатаем число вершин в G_am\n",
    "nodes = G_am.number_of_nodes()\n",
    "print(\"Число вершин: \", nodes)\n",
    "\n",
    "# Печатаем число ребер в G_am\n",
    "edges = G_am.number_of_edges()\n",
    "print(\"Число ребер: \", edges)\n",
    "\n",
    "# Печатаем число компонент связности в G_am\n",
    "print(\"Число компонент связности: \", nx.number_connected_components(G_am))"
   ]
  },
  {
   "cell_type": "code",
   "execution_count": null,
   "metadata": {
    "id": "4du7LX6-6Lkh"
   },
   "outputs": [],
   "source": [
    "def cutoff_by_degree(G, degree_threshold = 5):\n",
    "    # Добавьте сюда ваше решение\n",
    "    while True:\n",
    "        to_remove = [\n",
    "            vertex\n",
    "            for vertex, degree in G.degree()\n",
    "            if degree <= degree_threshold\n",
    "        ]\n",
    "        if not to_remove:\n",
    "            break\n",
    "        G.remove_nodes_from(to_remove)\n",
    "    return G\n",
    "\n",
    "# Создаем копию графа, чтобы не портить основной\n",
    "G = G_am.copy()\n",
    "cutoff_by_degree(G)\n",
    "\n",
    "\n",
    "# Печатаем число вершин в G\n",
    "nodes = G.number_of_nodes()\n",
    "print(\"Число вершин: \", nodes)\n",
    "\n",
    "# Печатаем число ребер в G\n",
    "edges = G.number_of_edges()\n",
    "print(\"Число ребер: \", edges)\n",
    "\n",
    "# Печатаем число компонент связности в G\n",
    "print(\"Число компонент связности: \", nx.number_connected_components(G))"
   ]
  },
  {
   "cell_type": "code",
   "execution_count": null,
   "metadata": {
    "id": "1gEghNT6BVWI"
   },
   "outputs": [],
   "source": [
    "# В этом блоке можно посмотреть на результат\n",
    "\n",
    "def draw_G(G):\n",
    "    options = {\n",
    "        \"node_size\": 2,\n",
    "        \"node_color\": \"black\",\n",
    "        \"edgecolors\": \"black\",\n",
    "        \"linewidths\": 0.1,\n",
    "        \"width\": 0.1,\n",
    "    }\n",
    "\n",
    "    nx.draw_networkx(G, with_labels=False, **options)\n",
    "    plt.show()\n",
    "\n",
    "\n",
    "draw_G(G)"
   ]
  }
 ],
 "metadata": {
  "colab": {
   "collapsed_sections": [],
   "name": "hw1_sol.ipynb",
   "provenance": [],
   "toc_visible": true
  },
  "kernelspec": {
   "display_name": "Python 3 (ipykernel)",
   "language": "python",
   "name": "python3"
  },
  "language_info": {
   "codemirror_mode": {
    "name": "ipython",
    "version": 3
   },
   "file_extension": ".py",
   "mimetype": "text/x-python",
   "name": "python",
   "nbconvert_exporter": "python",
   "pygments_lexer": "ipython3",
   "version": "3.9.7"
  }
 },
 "nbformat": 4,
 "nbformat_minor": 1
}
