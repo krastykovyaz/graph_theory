{
  "nbformat": 4,
  "nbformat_minor": 0,
  "metadata": {
    "colab": {
      "name": "hw1.ipynb",
      "provenance": [],
      "collapsed_sections": []
    },
    "kernelspec": {
      "name": "python3",
      "display_name": "Python 3"
    }
  },
  "cells": [
    {
      "cell_type": "markdown",
      "metadata": {
        "id": "Sk1wIDuOH2Lh"
      },
      "source": [
        "# Домашнее задание 1, задача 1\n",
        "\n",
        "В этом задании мы рассмотрим граф товаров, часто покупаемых вместе, и попробуем выделить группы взаимосвязанных ключевых товаров, которые покупают со многими другими товарами той же группы. Для этого мы хотим последовательно удалять из графа вершины степени не больше 5 до тех пор, пока такие вершины остаются. После этого компоненты связности получившегося графа как раз и будем считать такими группами ключевых продуктов. \n",
        "\n",
        "В результате работы программа должна построить описанный выше граф и напечатать количество компонент связности в нем.\n",
        "\n",
        "---\n",
        "**Правила сдачи.** Это первая из двух задач домашнего задания 1. Каждая задача оценивается в 5 баллов.\n",
        "\n",
        "Дедлайн первого домашнего задания --- 30 сентября в 19:00. Решения нужно отправить по адресу pygraphs.sber@gmail.com. Решения будут проверены до 19:00 1 октября. \n",
        "\n",
        "Также можно отправить решения до 19:00 28 сентября. Тогда они будут проверены до 19:00 29 сентября и в случае наличия ошибок можно будет успеть их исправить до основного дедлайна.\n",
        "\n",
        "---\n",
        "\n"
      ]
    },
    {
      "cell_type": "code",
      "metadata": {
        "id": "1kWZw5S35Oe1",
        "colab": {
          "base_uri": "https://localhost:8080/"
        },
        "outputId": "c70920bf-e01c-4d15-b19a-7d49131a9235"
      },
      "source": [
        "# Задаем граф\n",
        "\n",
        "import networkx as nx\n",
        "import matplotlib.pyplot as plt\n",
        "\n",
        "# Считываем данные из файла и заводим граф G_am\n",
        "G_am = nx.read_edgelist(\"amazon0302.txt\", create_using=nx.Graph(), nodetype=int, data=False)\n",
        "\n",
        "G_am = nx.convert_node_labels_to_integers(G_am, ordering='decreasing degree')\n",
        "\n",
        "# Печатаем число вершин в G_am\n",
        "nodes = G_am.number_of_nodes()\n",
        "print(\"Число вершин: \", nodes)\n",
        "\n",
        "# Печатаем число ребер в G_am\n",
        "edges = G_am.number_of_edges()\n",
        "print(\"Число ребер: \", edges)\n",
        "\n",
        "# Печатаем число компонент связности в G_am\n",
        "print(\"Число компонент связности: \", nx.number_connected_components(G_am))"
      ],
      "execution_count": 2,
      "outputs": [
        {
          "output_type": "stream",
          "name": "stdout",
          "text": [
            "Число вершин:  160274\n",
            "Число ребер:  474847\n",
            "Число компонент связности:  1\n"
          ]
        }
      ]
    },
    {
      "cell_type": "markdown",
      "metadata": {
        "id": "PhHdRAjo1W-6"
      },
      "source": [
        "# New section"
      ]
    },
    {
      "cell_type": "code",
      "metadata": {
        "id": "4du7LX6-6Lkh",
        "colab": {
          "base_uri": "https://localhost:8080/"
        },
        "outputId": "9efe15c0-e512-4abd-a495-0f69057eace2"
      },
      "source": [
        "def cutoff_by_degree(G, degree_threshold = 5):\n",
        "    # print(len(G))\n",
        "    vertex_list = [vertex for vertex, degree in G.degree() if degree <= degree_threshold]\n",
        "    while len(vertex_list) > 0:\n",
        "      G.remove_node(vertex_list[0])\n",
        "      del vertex_list[0]\n",
        "    # print(len(G))\n",
        "    return G\n",
        "\n",
        "    \n",
        "\n",
        "# Создаем копию графа, чтобы не портить основной\n",
        "G = G_am.copy()\n",
        "cutoff_by_degree(G)\n",
        "\n",
        "\n",
        "# Печатаем число вершин в G\n",
        "nodes = G.number_of_nodes()\n",
        "print(\"Число вершин: \", nodes)\n",
        "\n",
        "# Печатаем число ребер в G\n",
        "edges = G.number_of_edges()\n",
        "print(\"Число ребер: \", edges)\n",
        "\n",
        "# Печатаем число компонент связности в G\n",
        "print(\"Число компонент связности: \", nx.number_connected_components(G))"
      ],
      "execution_count": 25,
      "outputs": [
        {
          "output_type": "stream",
          "name": "stdout",
          "text": [
            "Число вершин:  79457\n",
            "Число ребер:  238282\n",
            "Число компонент связности:  584\n"
          ]
        }
      ]
    },
    {
      "cell_type": "code",
      "metadata": {
        "id": "1gEghNT6BVWI",
        "colab": {
          "base_uri": "https://localhost:8080/",
          "height": 248
        },
        "outputId": "38d51be3-d7b0-4a55-9c58-8031f28b02f2"
      },
      "source": [
        "# В этом блоке можно посмотреть на результат\n",
        "\n",
        "def draw_G(G):\n",
        "    options = {\n",
        "        \"node_size\": 2,\n",
        "        \"node_color\": \"black\",\n",
        "        \"edgecolors\": \"black\",\n",
        "        \"linewidths\": 0.1,\n",
        "        \"width\": 0.1,\n",
        "    }\n",
        "\n",
        "    nx.draw_networkx(G, with_labels=False, **options)\n",
        "    plt.show()\n",
        "\n",
        "\n",
        "draw_G(G)"
      ],
      "execution_count": 26,
      "outputs": [
        {
          "output_type": "display_data",
          "data": {
            "image/png": "[encoded data removed]",
            "text/plain": [
              "<Figure size 432x288 with 1 Axes>"
            ]
          },
          "metadata": {}
        }
      ]
    }
  ]
}