{
  "nbformat": 4,
  "nbformat_minor": 0,
  "metadata": {
    "kernelspec": {
      "display_name": "Python 3",
      "language": "python",
      "name": "python3"
    },
    "language_info": {
      "codemirror_mode": {
        "name": "ipython",
        "version": 3
      },
      "file_extension": ".py",
      "mimetype": "text/x-python",
      "name": "python",
      "nbconvert_exporter": "python",
      "pygments_lexer": "ipython3",
      "version": "3.7.6"
    },
    "colab": {
      "name": "cw3_dop_sol.ipynb",
      "provenance": [],
      "collapsed_sections": []
    }
  },
  "cells": [
    {
      "cell_type": "markdown",
      "metadata": {
        "id": "FFefrlPYD0VD"
      },
      "source": [
        "# Неделя 2, занятие 1, дополнительная задача. Разбиение дерева на небольшие части\n",
        "\n",
        "В этом задании нужно найти вершину дерева на $n$ вершинах, после удаления которой дерево распадется на деревья, в каждом из которых не больше $n/2$ вершин. Оказывается, что такая вершина всегда существует (мы обсудим это в теоретической части следующего занятия).\n",
        "\n",
        "Для реализации алгоритма нужно реализовать эффективный обход графа с подсчетом размера поддеревьев.\n"
      ]
    },
    {
      "cell_type": "code",
      "metadata": {
        "id": "rmsp3RDED0VJ"
      },
      "source": [
        "# Здесь мы загружаем библиотеку для работы с графами\n",
        "\n",
        "import networkx as nx"
      ],
      "execution_count": null,
      "outputs": []
    },
    {
      "cell_type": "code",
      "metadata": {
        "id": "Xra-nexrBFBY"
      },
      "source": [
        "# Эта функция по данному списку чисел строить дерево с соответствующими степенями вершин, мы обсуждали эту задачу на занятии\n",
        "\n",
        "def create_tree(degrees):\n",
        "\n",
        "    graph = nx.Graph()\n",
        "    #Реализуйте эту функцию\n",
        "    n = len(degrees)\n",
        "    # Здесь мы проверяем условия, которым должен удовлетворять набор чисел\n",
        "    if any([elem <= 0 for elem in degrees]) or sum(degrees) != 2 * n - 2:\n",
        "        return None\n",
        "\n",
        "    # Здесь мы заводим граф и заводим вершины в нем\n",
        "    graph.add_nodes_from(range(n))\n",
        "    for _ in range(n - 1):\n",
        "        # Выбираем какую-нибудь вершину степени 1\n",
        "        i = degrees.index(1)\n",
        "        degrees[i] -= 1\n",
        "        # Выбираем вершину максимальной степени \n",
        "        j = degrees.index(max(degrees))\n",
        "        graph.add_edge(i, j)\n",
        "        degrees[j] -= 1\n",
        "\n",
        "    return graph"
      ],
      "execution_count": null,
      "outputs": []
    },
    {
      "cell_type": "code",
      "metadata": {
        "id": "6hc8n0h7TAY9"
      },
      "source": [
        "# Здесь мы задаем пример дерева, он может быть полезен для тестирования алгоритма. \n",
        "\n",
        "G = nx.Graph()\n",
        "#G.add_edges_from([(0,1),(4,1),(1,3),(3,5),(5,2),(5,6)])\n",
        "G = create_tree([1, 3, 1, 2, 1, 3, 1])\n",
        "\n",
        "nx.draw_networkx(G)"
      ],
      "execution_count": null,
      "outputs": []
    },
    {
      "cell_type": "code",
      "metadata": {
        "id": "871o1VQeTpL2"
      },
      "source": [
        "# Здесь собраны полезные команды, чтобы их не нужно было искать\n",
        "\n",
        "# Создадим копию графа, чтобы не портить основной\n",
        "H = G.copy()\n",
        "\n",
        "# Этой командой можно удалить вершину\n",
        "H.remove_node(1)\n",
        "nx.draw_networkx(H)\n",
        "\n",
        "# Эта команда выдает генератор компонент связности графа (который мы сразу же переделываем в список)\n",
        "# Каждая компонента связности задается множеством своих вершин\n",
        "conn_comp = list(nx.connected_components(H))\n",
        "print(f\"Компоненты связности после удаления вершины {'1'}: {list(conn_comp)}\")\n",
        "\n"
      ],
      "execution_count": null,
      "outputs": []
    },
    {
      "cell_type": "code",
      "metadata": {
        "id": "BpjCdh_LVA8F"
      },
      "source": [
        "# В этом блоке нужно реализовать удаление вершины, разбивающей граф на небольшие части, через поиск в глубину\n",
        "\n",
        "visited = set()\n",
        "threshold = G.number_of_nodes() / 2\n",
        "\n",
        "def find_median_vertex(G,v):\n",
        "    # Добавьте здесь ваше решение\n",
        "    visited.add(v)\n",
        "    ans, size = v, 1\n",
        "    for u in G[v]:\n",
        "        if u not in visited:\n",
        "            child_ans, child_size = find_median_vertex(G,u)\n",
        "            if child_ans is not None:\n",
        "                return child_ans, None\n",
        "            if child_size > threshold:\n",
        "                ans = None\n",
        "            size += child_size\n",
        "    if size < threshold:\n",
        "        return None, size\n",
        "    else:\n",
        "        return ans, size\n",
        "\n",
        "\n",
        "print(f'Средняя вершина: {find_median_vertex(G,0)[0]}')\n",
        "nx.draw_networkx(G)"
      ],
      "execution_count": null,
      "outputs": []
    }
  ]
}