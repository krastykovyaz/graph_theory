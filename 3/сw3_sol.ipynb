{
  "nbformat": 4,
  "nbformat_minor": 0,
  "metadata": {
    "colab": {
      "name": "сw3.ipynb",
      "provenance": [],
      "collapsed_sections": []
    },
    "kernelspec": {
      "display_name": "Python 3",
      "language": "python",
      "name": "python3"
    },
    "language_info": {
      "codemirror_mode": {
        "name": "ipython",
        "version": 3
      },
      "file_extension": ".py",
      "mimetype": "text/x-python",
      "name": "python",
      "nbconvert_exporter": "python",
      "pygments_lexer": "ipython3",
      "version": "3.7.6"
    }
  },
  "cells": [
    {
      "cell_type": "markdown",
      "metadata": {
        "id": "AvJ5T8RpvdKn"
      },
      "source": [
        "# Неделя 2, занятие 1. Поиск в глубину\n",
        "\n",
        "В этом ноутбуке мы потренируемся работать с поиском в глубину"
      ]
    },
    {
      "cell_type": "code",
      "metadata": {
        "id": "EPkk7Ev4vdKp"
      },
      "source": [
        "# Задаем граф\n",
        "\n",
        "import networkx as nx\n",
        "\n",
        "graph = nx.Graph()\n",
        "\n",
        "graph.add_nodes_from(['A','B','C','D','E','F'])\n",
        "graph.add_edges_from([('A','B'), ('B','C'), ('C','A'),('B','D'),('B','E'),('D','E')])"
      ],
      "execution_count": null,
      "outputs": []
    },
    {
      "cell_type": "code",
      "metadata": {
        "id": "RVATfDCwvdKt"
      },
      "source": [
        "# Рисуем граф примерно как в слайдах\n",
        "\n",
        "import matplotlib.pyplot as plt\n",
        "\n",
        "pos = {'A': (1, 1.5), 'B': (4, 0), 'C': (5, 2), 'D': (2.9, 2.2), 'E': (6, 0.5), 'F': (7.5, 1.5)}\n",
        "\n",
        "def draw_G():\n",
        "    options = {\n",
        "        \"font_size\": 20,\n",
        "        \"node_size\": 1500,\n",
        "        \"node_color\": \"white\",\n",
        "        \"edgecolors\": \"black\",\n",
        "        \"linewidths\": 3,\n",
        "        \"width\": 3,\n",
        "    }\n",
        "\n",
        "    plt.axis([0, 8.5, -0.5, 2.7])\n",
        "    nx.draw_networkx(graph, pos, **options)\n",
        "    plt.show()\n",
        "    \n",
        "draw_G()"
      ],
      "execution_count": null,
      "outputs": []
    },
    {
      "cell_type": "code",
      "metadata": {
        "id": "tvVi6GmvvdK3"
      },
      "source": [
        "# Реализуем поиск в глубину\n",
        "\n",
        "clock = 0\n",
        "\n",
        "pre={}\n",
        "post={}\n",
        "\n",
        "def Previsit(v):\n",
        "    global clock\n",
        "    pre[v]=clock\n",
        "    clock+=1\n",
        "\n",
        "def Postvisit(v):\n",
        "    global clock\n",
        "    post[v]=clock\n",
        "    clock+=1\n",
        "\n",
        "visited={}\n",
        "for v in graph:\n",
        "    visited[v]=False\n",
        "\n",
        "def Explore(v):\n",
        "    visited[v]=True\n",
        "    Previsit(v)\n",
        "    for u in graph[v]:\n",
        "        if not visited[u]:\n",
        "            Explore(u)\n",
        "    Postvisit(v)\n",
        "            \n",
        "def dfs():\n",
        "    for v in graph:\n",
        "        if not visited[v]:\n",
        "            Explore(v)   \n",
        "            \n",
        "dfs()\n",
        "\n",
        "print(\"Pre:\\t\",sorted(pre.items()))\n",
        "print(\"Post:\\t\",sorted(post.items()))\n",
        "draw_G()"
      ],
      "execution_count": null,
      "outputs": []
    },
    {
      "cell_type": "code",
      "metadata": {
        "id": "ZSHc-qxnvdK6"
      },
      "source": [
        "# Реализуем поиск в глубину без глобальных переменных\n",
        "\n",
        "pre={}\n",
        "post={}\n",
        "\n",
        "def Previsit(v, pre, clock):\n",
        "    pre[v]=clock\n",
        "    clock+=1\n",
        "    return clock\n",
        "\n",
        "def Postvisit(v, post, clock):\n",
        "    post[v]=clock\n",
        "    clock+=1\n",
        "    return clock\n",
        "\n",
        "visited=dict()\n",
        "for v in graph:\n",
        "    visited[v]=False\n",
        "\n",
        "def Explore(v,graph,pre,post,clock,visited):\n",
        "    visited[v]=True\n",
        "    clock = Previsit(v,pre,clock)\n",
        "    for u in graph[v]:\n",
        "        if not visited[u]:\n",
        "            clock = Explore(u,graph,pre,post,clock,visited)\n",
        "    clock = Postvisit(v,post,clock)\n",
        "    return clock\n",
        "            \n",
        "def dfs(graph,pre,post,visited):\n",
        "    clock=0\n",
        "    for v in graph:\n",
        "        if not visited[v]:\n",
        "            clock = Explore(v,graph,pre,post,clock,visited)\n",
        "\n",
        "dfs(graph,pre,post,visited)\n",
        "\n",
        "print(\"Pre:\\t\",sorted(pre.items()))\n",
        "print(\"Post:\\t\",sorted(post.items()))\n",
        "\n",
        "draw_G()"
      ],
      "execution_count": null,
      "outputs": []
    },
    {
      "cell_type": "code",
      "metadata": {
        "id": "qNGKsZHpwPqP"
      },
      "source": [
        "# Задаем дерево\n",
        "\n",
        "import matplotlib.pyplot as plt\n",
        "\n",
        "# В этой строчке задается случайное дерево на 20 вершинах. При каждом перезапуске блока будет создаваться новое дерево.\n",
        "tree = nx.random_tree(20)\n",
        "\n",
        "# В варианте в строчке ниже генерируется регулярное дерево ветвления 4 и глубины 4\n",
        "# tree = nx.generators.classic.balanced_tree(4, 4)\n",
        "\n",
        "#nx.draw_networkx(tree)\n",
        "\n",
        "# Рисуем граф\n",
        "def draw_G(G):\n",
        "    options = {\n",
        "        \"node_size\": 3,\n",
        "        \"node_color\": \"black\",\n",
        "        \"edgecolors\": \"black\",\n",
        "        \"linewidths\": 1,\n",
        "        \"width\": 1,\n",
        "    }\n",
        "\n",
        "    nx.draw_networkx(G, with_labels=False, **options)\n",
        "    plt.show()\n",
        "    \n",
        "draw_G(tree)"
      ],
      "execution_count": null,
      "outputs": []
    },
    {
      "cell_type": "code",
      "metadata": {
        "id": "MNpaS_eue5kn"
      },
      "source": [
        "# В этом блоке требуется посчитать глубину дерева\n",
        "# Мы считаем вершину с меткой 0 корнем дерева\n",
        "\n",
        "# Заводим множество посещенных вершин\n",
        "visited = set()\n",
        "\n",
        "# Функция должна возвращать глубину дерева с корнем v\n",
        "def count_depth(v):\n",
        "    # Добавьте здесь ваше решение\n",
        "    visited.add(v)\n",
        "    depth = 0\n",
        "    for u in tree[v]:\n",
        "        if u not in visited:\n",
        "            depth = max(depth, count_depth(u)+1)\n",
        "    return depth\n",
        "\n",
        "\n",
        "print(f'Глубина дерева: {count_depth(0)}')\n"
      ],
      "execution_count": null,
      "outputs": []
    }
  ]
}