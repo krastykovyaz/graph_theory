{
  "nbformat": 4,
  "nbformat_minor": 0,
  "metadata": {
    "colab": {
      "name": "hw3_sol.ipynb",
      "provenance": [],
      "collapsed_sections": []
    },
    "kernelspec": {
      "display_name": "Python 3",
      "language": "python",
      "name": "python3"
    },
    "language_info": {
      "codemirror_mode": {
        "name": "ipython",
        "version": 3
      },
      "file_extension": ".py",
      "mimetype": "text/x-python",
      "name": "python",
      "nbconvert_exporter": "python",
      "pygments_lexer": "ipython3",
      "version": "3.7.6"
    }
  },
  "cells": [
    {
      "cell_type": "markdown",
      "metadata": {
        "id": "AvJ5T8RpvdKn"
      },
      "source": [
        "# Домашнее задание 2, задача 1. Нахождение ранга корневого дерева\n",
        "\n",
        "В этом задании требуется реализовать нахождение ранга корневого дерева с помощью поиска в глубину.\n",
        "\n",
        "*Ранг* определяется для каждой вершины дерева. Для листьев ранг равен нулю. Для промежуточной вершины ранг равен максимуму среди рангов вершин ее потомков, если максимальный ранг среди потомков достигается на одном потомке, и ранг на 1 больше ранга потомков, если максимальный ранг среди потомков достигается сразу на двух потомках. Рангом дерева называется ранг ее корня.\n",
        "\n",
        "Для примера, ранги вершин дерева на картинке ниже подписаны в самих вершинах. Ранг всего дерева равен 2.\n",
        "\n",
        "![trees1.png](data:image/png;base64,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)\n",
        "\n",
        "\n",
        "---\n",
        "**Правила сдачи.** Это первая из двух задач домашнего задания 2. Каждая задача оценивается в 5 баллов.\n",
        "\n",
        "Дедлайн второго домашнего задания --- **7 октября в 19:00**. Решения нужно отправить по адресу pygraphs.sber@gmail.com. Решения будут проверены до 19:00 8 октября. \n",
        "\n",
        "Также можно отправить решения до **19:00 5 октября**. Тогда они будут проверены до 19:00 6 октября и в случае наличия ошибок можно будет успеть их исправить до основного дедлайна.\n",
        "\n",
        "---"
      ]
    },
    {
      "cell_type": "code",
      "metadata": {
        "id": "EPkk7Ev4vdKp"
      },
      "source": [
        "# Задаем граф\n",
        "\n",
        "import networkx as nx\n",
        "import matplotlib.pyplot as plt\n",
        "\n",
        "# В этой строчке задается случайное дерево на 100 вершинах. При каждом перезапуске блока будет создаваться новое дерево.\n",
        "tree = nx.random_tree(100)\n",
        "\n",
        "# В варианте в строчке ниже генерируется регулярное дерево ветвления 4 и глубины 4\n",
        "#tree = nx.generators.classic.balanced_tree(4, 4)\n",
        "\n",
        "# В варианте в строчке ниже генерируется биномиальное дерево порядка 6\n",
        "# tree = nx.binomial_tree(6)\n",
        "\n",
        "#nx.draw_networkx(tree)\n",
        "\n",
        "# Рисуем граф\n",
        "def draw_G(G):\n",
        "    options = {\n",
        "        \"node_size\": 3,\n",
        "        \"node_color\": \"black\",\n",
        "        \"edgecolors\": \"black\",\n",
        "        \"linewidths\": 1,\n",
        "        \"width\": 1,\n",
        "    }\n",
        "\n",
        "    nx.draw_networkx(G, with_labels=False, **options)\n",
        "    plt.show()\n",
        "    \n",
        "draw_G(tree)"
      ],
      "execution_count": null,
      "outputs": []
    },
    {
      "cell_type": "code",
      "metadata": {
        "id": "paPQSLm2g4H2"
      },
      "source": [
        "# В этом блоке нужно реализовать подсчет ранга дерева с помощью поиска в глубину\n",
        "# Мы считаем вершину с меткой 0 корнем дерева\n",
        "\n",
        "# Заводим множество посещенных вершин\n",
        "visited = set()\n",
        "\n",
        "# В этой функции мы будем подсчитывать ранг дерева с корнем в вершине v\n",
        "def count_rank(v):\n",
        "    # Реализуйте здесь ваше решение\n",
        "    visited.add(v)\n",
        "    state = [0,0]\n",
        "    for u in tree[v]:\n",
        "        if u not in visited:\n",
        "            child = count_rank(u)\n",
        "            if state[0] < child:\n",
        "                state = [child, 1]\n",
        "            elif state[0] == child:\n",
        "                state[1]+=1\n",
        "    add = 1 if state[1] > 1 else 0\n",
        "    return state[0] + add\n",
        "\n",
        "print(f'Ранг дерева: {count_rank(0)}')\n"
      ],
      "execution_count": null,
      "outputs": []
    }
  ]
}